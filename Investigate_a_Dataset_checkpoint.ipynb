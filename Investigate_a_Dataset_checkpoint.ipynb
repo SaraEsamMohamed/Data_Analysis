{
  "nbformat": 4,
  "nbformat_minor": 0,
  "metadata": {
    "kernelspec": {
      "display_name": "Python 3",
      "language": "python",
      "name": "python3"
    },
    "language_info": {
      "codemirror_mode": {
        "name": "ipython",
        "version": 3
      },
      "file_extension": ".py",
      "mimetype": "text/x-python",
      "name": "python",
      "nbconvert_exporter": "python",
      "pygments_lexer": "ipython3",
      "version": "3.6.3"
    },
    "colab": {
      "name": "Investigate_a_Dataset-checkpoint.ipynb",
      "provenance": [],
      "include_colab_link": true
    }
  },
  "cells": [
    {
      "cell_type": "markdown",
      "metadata": {
        "id": "view-in-github",
        "colab_type": "text"
      },
      "source": [
        "<a href=\"https://colab.research.google.com/github/SaraEsamMohamed/Data_Analysis/blob/main/Investigate_a_Dataset_checkpoint.ipynb\" target=\"_parent\"><img src=\"https://colab.research.google.com/assets/colab-badge.svg\" alt=\"Open In Colab\"/></a>"
      ]
    },
    {
      "cell_type": "markdown",
      "metadata": {
        "id": "Fyy6eKNI9Mbc"
      },
      "source": [
        "\n",
        "\n",
        "# Project: TMDb movie data\n",
        "\n",
        "\n",
        "\n",
        "## Table of Contents\n",
        "<ul>\n",
        "<li><a href=\"#intro\">Introduction</a></li>\n",
        "<li><a href=\"#wrangling\">Data Wrangling</a></li>\n",
        "<li><a href=\"#eda\">Exploratory Data Analysis</a></li>\n",
        "<li><a href=\"#conclusions\">Conclusions</a></li>\n",
        "</ul>"
      ]
    },
    {
      "cell_type": "markdown",
      "metadata": {
        "id": "BWrOcHfD9Mbm"
      },
      "source": [
        "<a id='intro'></a>\n",
        "## Introduction\n",
        "\n",
        "> This data set contains information about 10,000 movies collected from The Movie Database (TMDb).\n",
        "the datasets contains number of Rows = 10866 & Number of columns = 21 <br> <br>\n",
        " in the report i explore the flowing questions :\n",
        "\n",
        "> <p> 1-what is the runtime the more popular movies take? <br>\n",
        " 2- Which movies are the most high profitable in the market?<br>\n",
        " 3-in Which years do movies made the high profits?<br>\n",
        " 4-which movie with the highest & lowest Budget?<br>\n",
        " 5-which movie with the highest & lowest Budget?<br>\n",
        " 6-How does revenue change according to their budget?<br>\n",
        " 7-what is the time most movies takes? </p>\n",
        "\n"
      ]
    },
    {
      "cell_type": "code",
      "metadata": {
        "id": "eORqAT029Mbn"
      },
      "source": [
        "# import statements for all of the packages\n",
        "\n",
        "import numpy as np\n",
        "import pandas as pd \n",
        "import matplotlib.pyplot as plt \n",
        "import seaborn as sns\n",
        "% matplotlib inline"
      ],
      "execution_count": null,
      "outputs": []
    },
    {
      "cell_type": "markdown",
      "metadata": {
        "id": "Mg-jZXVZ9Mbo"
      },
      "source": [
        "<a id='wrangling'></a>\n",
        "## Data Wrangling\n",
        "\n",
        ">  In this section i will load and acess the dataset\n",
        "\n",
        "### General Properties"
      ]
    },
    {
      "cell_type": "markdown",
      "metadata": {
        "id": "VTMxla1a9Mbo"
      },
      "source": [
        "# Gather & Acess Dataset"
      ]
    },
    {
      "cell_type": "code",
      "metadata": {
        "id": "658wQAP69Mbp",
        "outputId": "558ad836-d6ae-4845-d09a-f52058ea9974"
      },
      "source": [
        "df =pd.read_csv('tmdb-movies.csv')\n",
        "df.head()"
      ],
      "execution_count": null,
      "outputs": [
        {
          "output_type": "execute_result",
          "data": {
            "text/html": [
              "<div>\n",
              "<style scoped>\n",
              "    .dataframe tbody tr th:only-of-type {\n",
              "        vertical-align: middle;\n",
              "    }\n",
              "\n",
              "    .dataframe tbody tr th {\n",
              "        vertical-align: top;\n",
              "    }\n",
              "\n",
              "    .dataframe thead th {\n",
              "        text-align: right;\n",
              "    }\n",
              "</style>\n",
              "<table border=\"1\" class=\"dataframe\">\n",
              "  <thead>\n",
              "    <tr style=\"text-align: right;\">\n",
              "      <th></th>\n",
              "      <th>id</th>\n",
              "      <th>imdb_id</th>\n",
              "      <th>popularity</th>\n",
              "      <th>budget</th>\n",
              "      <th>revenue</th>\n",
              "      <th>original_title</th>\n",
              "      <th>cast</th>\n",
              "      <th>homepage</th>\n",
              "      <th>director</th>\n",
              "      <th>tagline</th>\n",
              "      <th>...</th>\n",
              "      <th>overview</th>\n",
              "      <th>runtime</th>\n",
              "      <th>genres</th>\n",
              "      <th>production_companies</th>\n",
              "      <th>release_date</th>\n",
              "      <th>vote_count</th>\n",
              "      <th>vote_average</th>\n",
              "      <th>release_year</th>\n",
              "      <th>budget_adj</th>\n",
              "      <th>revenue_adj</th>\n",
              "    </tr>\n",
              "  </thead>\n",
              "  <tbody>\n",
              "    <tr>\n",
              "      <th>0</th>\n",
              "      <td>135397</td>\n",
              "      <td>tt0369610</td>\n",
              "      <td>32.985763</td>\n",
              "      <td>150000000</td>\n",
              "      <td>1513528810</td>\n",
              "      <td>Jurassic World</td>\n",
              "      <td>Chris Pratt|Bryce Dallas Howard|Irrfan Khan|Vi...</td>\n",
              "      <td>http://www.jurassicworld.com/</td>\n",
              "      <td>Colin Trevorrow</td>\n",
              "      <td>The park is open.</td>\n",
              "      <td>...</td>\n",
              "      <td>Twenty-two years after the events of Jurassic ...</td>\n",
              "      <td>124</td>\n",
              "      <td>Action|Adventure|Science Fiction|Thriller</td>\n",
              "      <td>Universal Studios|Amblin Entertainment|Legenda...</td>\n",
              "      <td>6/9/15</td>\n",
              "      <td>5562</td>\n",
              "      <td>6.5</td>\n",
              "      <td>2015</td>\n",
              "      <td>1.379999e+08</td>\n",
              "      <td>1.392446e+09</td>\n",
              "    </tr>\n",
              "    <tr>\n",
              "      <th>1</th>\n",
              "      <td>76341</td>\n",
              "      <td>tt1392190</td>\n",
              "      <td>28.419936</td>\n",
              "      <td>150000000</td>\n",
              "      <td>378436354</td>\n",
              "      <td>Mad Max: Fury Road</td>\n",
              "      <td>Tom Hardy|Charlize Theron|Hugh Keays-Byrne|Nic...</td>\n",
              "      <td>http://www.madmaxmovie.com/</td>\n",
              "      <td>George Miller</td>\n",
              "      <td>What a Lovely Day.</td>\n",
              "      <td>...</td>\n",
              "      <td>An apocalyptic story set in the furthest reach...</td>\n",
              "      <td>120</td>\n",
              "      <td>Action|Adventure|Science Fiction|Thriller</td>\n",
              "      <td>Village Roadshow Pictures|Kennedy Miller Produ...</td>\n",
              "      <td>5/13/15</td>\n",
              "      <td>6185</td>\n",
              "      <td>7.1</td>\n",
              "      <td>2015</td>\n",
              "      <td>1.379999e+08</td>\n",
              "      <td>3.481613e+08</td>\n",
              "    </tr>\n",
              "    <tr>\n",
              "      <th>2</th>\n",
              "      <td>262500</td>\n",
              "      <td>tt2908446</td>\n",
              "      <td>13.112507</td>\n",
              "      <td>110000000</td>\n",
              "      <td>295238201</td>\n",
              "      <td>Insurgent</td>\n",
              "      <td>Shailene Woodley|Theo James|Kate Winslet|Ansel...</td>\n",
              "      <td>http://www.thedivergentseries.movie/#insurgent</td>\n",
              "      <td>Robert Schwentke</td>\n",
              "      <td>One Choice Can Destroy You</td>\n",
              "      <td>...</td>\n",
              "      <td>Beatrice Prior must confront her inner demons ...</td>\n",
              "      <td>119</td>\n",
              "      <td>Adventure|Science Fiction|Thriller</td>\n",
              "      <td>Summit Entertainment|Mandeville Films|Red Wago...</td>\n",
              "      <td>3/18/15</td>\n",
              "      <td>2480</td>\n",
              "      <td>6.3</td>\n",
              "      <td>2015</td>\n",
              "      <td>1.012000e+08</td>\n",
              "      <td>2.716190e+08</td>\n",
              "    </tr>\n",
              "    <tr>\n",
              "      <th>3</th>\n",
              "      <td>140607</td>\n",
              "      <td>tt2488496</td>\n",
              "      <td>11.173104</td>\n",
              "      <td>200000000</td>\n",
              "      <td>2068178225</td>\n",
              "      <td>Star Wars: The Force Awakens</td>\n",
              "      <td>Harrison Ford|Mark Hamill|Carrie Fisher|Adam D...</td>\n",
              "      <td>http://www.starwars.com/films/star-wars-episod...</td>\n",
              "      <td>J.J. Abrams</td>\n",
              "      <td>Every generation has a story.</td>\n",
              "      <td>...</td>\n",
              "      <td>Thirty years after defeating the Galactic Empi...</td>\n",
              "      <td>136</td>\n",
              "      <td>Action|Adventure|Science Fiction|Fantasy</td>\n",
              "      <td>Lucasfilm|Truenorth Productions|Bad Robot</td>\n",
              "      <td>12/15/15</td>\n",
              "      <td>5292</td>\n",
              "      <td>7.5</td>\n",
              "      <td>2015</td>\n",
              "      <td>1.839999e+08</td>\n",
              "      <td>1.902723e+09</td>\n",
              "    </tr>\n",
              "    <tr>\n",
              "      <th>4</th>\n",
              "      <td>168259</td>\n",
              "      <td>tt2820852</td>\n",
              "      <td>9.335014</td>\n",
              "      <td>190000000</td>\n",
              "      <td>1506249360</td>\n",
              "      <td>Furious 7</td>\n",
              "      <td>Vin Diesel|Paul Walker|Jason Statham|Michelle ...</td>\n",
              "      <td>http://www.furious7.com/</td>\n",
              "      <td>James Wan</td>\n",
              "      <td>Vengeance Hits Home</td>\n",
              "      <td>...</td>\n",
              "      <td>Deckard Shaw seeks revenge against Dominic Tor...</td>\n",
              "      <td>137</td>\n",
              "      <td>Action|Crime|Thriller</td>\n",
              "      <td>Universal Pictures|Original Film|Media Rights ...</td>\n",
              "      <td>4/1/15</td>\n",
              "      <td>2947</td>\n",
              "      <td>7.3</td>\n",
              "      <td>2015</td>\n",
              "      <td>1.747999e+08</td>\n",
              "      <td>1.385749e+09</td>\n",
              "    </tr>\n",
              "  </tbody>\n",
              "</table>\n",
              "<p>5 rows × 21 columns</p>\n",
              "</div>"
            ],
            "text/plain": [
              "       id    imdb_id  popularity     budget     revenue  \\\n",
              "0  135397  tt0369610   32.985763  150000000  1513528810   \n",
              "1   76341  tt1392190   28.419936  150000000   378436354   \n",
              "2  262500  tt2908446   13.112507  110000000   295238201   \n",
              "3  140607  tt2488496   11.173104  200000000  2068178225   \n",
              "4  168259  tt2820852    9.335014  190000000  1506249360   \n",
              "\n",
              "                 original_title  \\\n",
              "0                Jurassic World   \n",
              "1            Mad Max: Fury Road   \n",
              "2                     Insurgent   \n",
              "3  Star Wars: The Force Awakens   \n",
              "4                     Furious 7   \n",
              "\n",
              "                                                cast  \\\n",
              "0  Chris Pratt|Bryce Dallas Howard|Irrfan Khan|Vi...   \n",
              "1  Tom Hardy|Charlize Theron|Hugh Keays-Byrne|Nic...   \n",
              "2  Shailene Woodley|Theo James|Kate Winslet|Ansel...   \n",
              "3  Harrison Ford|Mark Hamill|Carrie Fisher|Adam D...   \n",
              "4  Vin Diesel|Paul Walker|Jason Statham|Michelle ...   \n",
              "\n",
              "                                            homepage          director  \\\n",
              "0                      http://www.jurassicworld.com/   Colin Trevorrow   \n",
              "1                        http://www.madmaxmovie.com/     George Miller   \n",
              "2     http://www.thedivergentseries.movie/#insurgent  Robert Schwentke   \n",
              "3  http://www.starwars.com/films/star-wars-episod...       J.J. Abrams   \n",
              "4                           http://www.furious7.com/         James Wan   \n",
              "\n",
              "                         tagline      ...       \\\n",
              "0              The park is open.      ...        \n",
              "1             What a Lovely Day.      ...        \n",
              "2     One Choice Can Destroy You      ...        \n",
              "3  Every generation has a story.      ...        \n",
              "4            Vengeance Hits Home      ...        \n",
              "\n",
              "                                            overview runtime  \\\n",
              "0  Twenty-two years after the events of Jurassic ...     124   \n",
              "1  An apocalyptic story set in the furthest reach...     120   \n",
              "2  Beatrice Prior must confront her inner demons ...     119   \n",
              "3  Thirty years after defeating the Galactic Empi...     136   \n",
              "4  Deckard Shaw seeks revenge against Dominic Tor...     137   \n",
              "\n",
              "                                      genres  \\\n",
              "0  Action|Adventure|Science Fiction|Thriller   \n",
              "1  Action|Adventure|Science Fiction|Thriller   \n",
              "2         Adventure|Science Fiction|Thriller   \n",
              "3   Action|Adventure|Science Fiction|Fantasy   \n",
              "4                      Action|Crime|Thriller   \n",
              "\n",
              "                                production_companies release_date vote_count  \\\n",
              "0  Universal Studios|Amblin Entertainment|Legenda...       6/9/15       5562   \n",
              "1  Village Roadshow Pictures|Kennedy Miller Produ...      5/13/15       6185   \n",
              "2  Summit Entertainment|Mandeville Films|Red Wago...      3/18/15       2480   \n",
              "3          Lucasfilm|Truenorth Productions|Bad Robot     12/15/15       5292   \n",
              "4  Universal Pictures|Original Film|Media Rights ...       4/1/15       2947   \n",
              "\n",
              "   vote_average  release_year    budget_adj   revenue_adj  \n",
              "0           6.5          2015  1.379999e+08  1.392446e+09  \n",
              "1           7.1          2015  1.379999e+08  3.481613e+08  \n",
              "2           6.3          2015  1.012000e+08  2.716190e+08  \n",
              "3           7.5          2015  1.839999e+08  1.902723e+09  \n",
              "4           7.3          2015  1.747999e+08  1.385749e+09  \n",
              "\n",
              "[5 rows x 21 columns]"
            ]
          },
          "metadata": {
            "tags": []
          },
          "execution_count": 3
        }
      ]
    },
    {
      "cell_type": "code",
      "metadata": {
        "id": "BxCFRhX59Mbq",
        "outputId": "2ceb77be-4234-429a-e8d6-b83b409a52e1"
      },
      "source": [
        "df.info()"
      ],
      "execution_count": null,
      "outputs": [
        {
          "output_type": "stream",
          "text": [
            "<class 'pandas.core.frame.DataFrame'>\n",
            "RangeIndex: 10866 entries, 0 to 10865\n",
            "Data columns (total 21 columns):\n",
            "id                      10866 non-null int64\n",
            "imdb_id                 10856 non-null object\n",
            "popularity              10866 non-null float64\n",
            "budget                  10866 non-null int64\n",
            "revenue                 10866 non-null int64\n",
            "original_title          10866 non-null object\n",
            "cast                    10790 non-null object\n",
            "homepage                2936 non-null object\n",
            "director                10822 non-null object\n",
            "tagline                 8042 non-null object\n",
            "keywords                9373 non-null object\n",
            "overview                10862 non-null object\n",
            "runtime                 10866 non-null int64\n",
            "genres                  10843 non-null object\n",
            "production_companies    9836 non-null object\n",
            "release_date            10866 non-null object\n",
            "vote_count              10866 non-null int64\n",
            "vote_average            10866 non-null float64\n",
            "release_year            10866 non-null int64\n",
            "budget_adj              10866 non-null float64\n",
            "revenue_adj             10866 non-null float64\n",
            "dtypes: float64(4), int64(6), object(11)\n",
            "memory usage: 1.7+ MB\n"
          ],
          "name": "stdout"
        }
      ]
    },
    {
      "cell_type": "code",
      "metadata": {
        "id": "AP31brgN9Mbr",
        "outputId": "c04d6fe2-98d8-466d-8198-0a9f96edcf57"
      },
      "source": [
        "df.describe()  "
      ],
      "execution_count": null,
      "outputs": [
        {
          "output_type": "execute_result",
          "data": {
            "text/html": [
              "<div>\n",
              "<style scoped>\n",
              "    .dataframe tbody tr th:only-of-type {\n",
              "        vertical-align: middle;\n",
              "    }\n",
              "\n",
              "    .dataframe tbody tr th {\n",
              "        vertical-align: top;\n",
              "    }\n",
              "\n",
              "    .dataframe thead th {\n",
              "        text-align: right;\n",
              "    }\n",
              "</style>\n",
              "<table border=\"1\" class=\"dataframe\">\n",
              "  <thead>\n",
              "    <tr style=\"text-align: right;\">\n",
              "      <th></th>\n",
              "      <th>id</th>\n",
              "      <th>popularity</th>\n",
              "      <th>budget</th>\n",
              "      <th>revenue</th>\n",
              "      <th>runtime</th>\n",
              "      <th>vote_count</th>\n",
              "      <th>vote_average</th>\n",
              "      <th>release_year</th>\n",
              "      <th>budget_adj</th>\n",
              "      <th>revenue_adj</th>\n",
              "    </tr>\n",
              "  </thead>\n",
              "  <tbody>\n",
              "    <tr>\n",
              "      <th>count</th>\n",
              "      <td>10866.000000</td>\n",
              "      <td>10866.000000</td>\n",
              "      <td>1.086600e+04</td>\n",
              "      <td>1.086600e+04</td>\n",
              "      <td>10866.000000</td>\n",
              "      <td>10866.000000</td>\n",
              "      <td>10866.000000</td>\n",
              "      <td>10866.000000</td>\n",
              "      <td>1.086600e+04</td>\n",
              "      <td>1.086600e+04</td>\n",
              "    </tr>\n",
              "    <tr>\n",
              "      <th>mean</th>\n",
              "      <td>66064.177434</td>\n",
              "      <td>0.646441</td>\n",
              "      <td>1.462570e+07</td>\n",
              "      <td>3.982332e+07</td>\n",
              "      <td>102.070863</td>\n",
              "      <td>217.389748</td>\n",
              "      <td>5.974922</td>\n",
              "      <td>2001.322658</td>\n",
              "      <td>1.755104e+07</td>\n",
              "      <td>5.136436e+07</td>\n",
              "    </tr>\n",
              "    <tr>\n",
              "      <th>std</th>\n",
              "      <td>92130.136561</td>\n",
              "      <td>1.000185</td>\n",
              "      <td>3.091321e+07</td>\n",
              "      <td>1.170035e+08</td>\n",
              "      <td>31.381405</td>\n",
              "      <td>575.619058</td>\n",
              "      <td>0.935142</td>\n",
              "      <td>12.812941</td>\n",
              "      <td>3.430616e+07</td>\n",
              "      <td>1.446325e+08</td>\n",
              "    </tr>\n",
              "    <tr>\n",
              "      <th>min</th>\n",
              "      <td>5.000000</td>\n",
              "      <td>0.000065</td>\n",
              "      <td>0.000000e+00</td>\n",
              "      <td>0.000000e+00</td>\n",
              "      <td>0.000000</td>\n",
              "      <td>10.000000</td>\n",
              "      <td>1.500000</td>\n",
              "      <td>1960.000000</td>\n",
              "      <td>0.000000e+00</td>\n",
              "      <td>0.000000e+00</td>\n",
              "    </tr>\n",
              "    <tr>\n",
              "      <th>25%</th>\n",
              "      <td>10596.250000</td>\n",
              "      <td>0.207583</td>\n",
              "      <td>0.000000e+00</td>\n",
              "      <td>0.000000e+00</td>\n",
              "      <td>90.000000</td>\n",
              "      <td>17.000000</td>\n",
              "      <td>5.400000</td>\n",
              "      <td>1995.000000</td>\n",
              "      <td>0.000000e+00</td>\n",
              "      <td>0.000000e+00</td>\n",
              "    </tr>\n",
              "    <tr>\n",
              "      <th>50%</th>\n",
              "      <td>20669.000000</td>\n",
              "      <td>0.383856</td>\n",
              "      <td>0.000000e+00</td>\n",
              "      <td>0.000000e+00</td>\n",
              "      <td>99.000000</td>\n",
              "      <td>38.000000</td>\n",
              "      <td>6.000000</td>\n",
              "      <td>2006.000000</td>\n",
              "      <td>0.000000e+00</td>\n",
              "      <td>0.000000e+00</td>\n",
              "    </tr>\n",
              "    <tr>\n",
              "      <th>75%</th>\n",
              "      <td>75610.000000</td>\n",
              "      <td>0.713817</td>\n",
              "      <td>1.500000e+07</td>\n",
              "      <td>2.400000e+07</td>\n",
              "      <td>111.000000</td>\n",
              "      <td>145.750000</td>\n",
              "      <td>6.600000</td>\n",
              "      <td>2011.000000</td>\n",
              "      <td>2.085325e+07</td>\n",
              "      <td>3.369710e+07</td>\n",
              "    </tr>\n",
              "    <tr>\n",
              "      <th>max</th>\n",
              "      <td>417859.000000</td>\n",
              "      <td>32.985763</td>\n",
              "      <td>4.250000e+08</td>\n",
              "      <td>2.781506e+09</td>\n",
              "      <td>900.000000</td>\n",
              "      <td>9767.000000</td>\n",
              "      <td>9.200000</td>\n",
              "      <td>2015.000000</td>\n",
              "      <td>4.250000e+08</td>\n",
              "      <td>2.827124e+09</td>\n",
              "    </tr>\n",
              "  </tbody>\n",
              "</table>\n",
              "</div>"
            ],
            "text/plain": [
              "                  id    popularity        budget       revenue       runtime  \\\n",
              "count   10866.000000  10866.000000  1.086600e+04  1.086600e+04  10866.000000   \n",
              "mean    66064.177434      0.646441  1.462570e+07  3.982332e+07    102.070863   \n",
              "std     92130.136561      1.000185  3.091321e+07  1.170035e+08     31.381405   \n",
              "min         5.000000      0.000065  0.000000e+00  0.000000e+00      0.000000   \n",
              "25%     10596.250000      0.207583  0.000000e+00  0.000000e+00     90.000000   \n",
              "50%     20669.000000      0.383856  0.000000e+00  0.000000e+00     99.000000   \n",
              "75%     75610.000000      0.713817  1.500000e+07  2.400000e+07    111.000000   \n",
              "max    417859.000000     32.985763  4.250000e+08  2.781506e+09    900.000000   \n",
              "\n",
              "         vote_count  vote_average  release_year    budget_adj   revenue_adj  \n",
              "count  10866.000000  10866.000000  10866.000000  1.086600e+04  1.086600e+04  \n",
              "mean     217.389748      5.974922   2001.322658  1.755104e+07  5.136436e+07  \n",
              "std      575.619058      0.935142     12.812941  3.430616e+07  1.446325e+08  \n",
              "min       10.000000      1.500000   1960.000000  0.000000e+00  0.000000e+00  \n",
              "25%       17.000000      5.400000   1995.000000  0.000000e+00  0.000000e+00  \n",
              "50%       38.000000      6.000000   2006.000000  0.000000e+00  0.000000e+00  \n",
              "75%      145.750000      6.600000   2011.000000  2.085325e+07  3.369710e+07  \n",
              "max     9767.000000      9.200000   2015.000000  4.250000e+08  2.827124e+09  "
            ]
          },
          "metadata": {
            "tags": []
          },
          "execution_count": 38
        }
      ]
    },
    {
      "cell_type": "code",
      "metadata": {
        "id": "nyW27iiv9Mbr",
        "outputId": "df14b53e-1457-422d-b8f6-260bd510dddb"
      },
      "source": [
        "df.shape"
      ],
      "execution_count": null,
      "outputs": [
        {
          "output_type": "execute_result",
          "data": {
            "text/plain": [
              "(10866, 21)"
            ]
          },
          "metadata": {
            "tags": []
          },
          "execution_count": 39
        }
      ]
    },
    {
      "cell_type": "code",
      "metadata": {
        "id": "oHd7lCXU9Mbs"
      },
      "source": [
        ""
      ],
      "execution_count": null,
      "outputs": []
    },
    {
      "cell_type": "code",
      "metadata": {
        "id": "4NLg-V6k9Mbs"
      },
      "source": [
        ""
      ],
      "execution_count": null,
      "outputs": []
    },
    {
      "cell_type": "code",
      "metadata": {
        "id": "iptnkUuy9Mbt"
      },
      "source": [
        ""
      ],
      "execution_count": null,
      "outputs": []
    },
    {
      "cell_type": "code",
      "metadata": {
        "id": "AUUnTgDf9Mbt"
      },
      "source": [
        ""
      ],
      "execution_count": null,
      "outputs": []
    },
    {
      "cell_type": "code",
      "metadata": {
        "id": "yr8e6_o59Mbt"
      },
      "source": [
        ""
      ],
      "execution_count": null,
      "outputs": []
    },
    {
      "cell_type": "markdown",
      "metadata": {
        "id": "33r82ji89Mbt"
      },
      "source": [
        "# Data Cleaning\n",
        ">In this section i will do this things:  <br><br>\n",
        "1- check & remove duplicate rows from the dataset <br>\n",
        "2-remove unnecessary columns and not be used in analysis <br>\n",
        "3- remove null values  <br>\n",
        "4-rename two columns (budget_adj ,revenue_adj) to be easy to read <br>\n",
        "5-Changing format of  release_year into datetime format <br>\n"
      ]
    },
    {
      "cell_type": "code",
      "metadata": {
        "id": "jyyyfYRL9Mbu",
        "outputId": "558f06c0-6fb0-46dc-9553-c034ae346397"
      },
      "source": [
        "#check for any duplicates row\n",
        "\n",
        "df.duplicated().sum()"
      ],
      "execution_count": null,
      "outputs": [
        {
          "output_type": "execute_result",
          "data": {
            "text/plain": [
              "0"
            ]
          },
          "metadata": {
            "tags": []
          },
          "execution_count": 18
        }
      ]
    },
    {
      "cell_type": "code",
      "metadata": {
        "id": "6ghUfXsl9Mbu",
        "outputId": "87b2573f-ac26-4085-fd0c-a241fe4ab5ac"
      },
      "source": [
        "#remove duplicated row and then show after remove\n",
        "\n",
        "df.drop_duplicates(inplace = True)\n",
        "df.shape"
      ],
      "execution_count": null,
      "outputs": [
        {
          "output_type": "execute_result",
          "data": {
            "text/plain": [
              "(9772, 14)"
            ]
          },
          "metadata": {
            "tags": []
          },
          "execution_count": 19
        }
      ]
    },
    {
      "cell_type": "code",
      "metadata": {
        "id": "CefRv0_e9Mbv"
      },
      "source": [
        "# remove unnecessary columns and not be used\n",
        "df.drop(['imdb_id','homepage','budget','revenue','tagline','overview','release_date','keywords'], axis=1, inplace=True)"
      ],
      "execution_count": null,
      "outputs": []
    },
    {
      "cell_type": "code",
      "metadata": {
        "id": "QkO1LyIv9Mbv"
      },
      "source": [
        ""
      ],
      "execution_count": null,
      "outputs": []
    },
    {
      "cell_type": "code",
      "metadata": {
        "id": "xXc_Tg0r9Mbw",
        "outputId": "899a0380-8f16-4ad3-d616-a877a38eb93f"
      },
      "source": [
        "df.info()"
      ],
      "execution_count": null,
      "outputs": [
        {
          "output_type": "stream",
          "text": [
            "<class 'pandas.core.frame.DataFrame'>\n",
            "Int64Index: 10865 entries, 0 to 10865\n",
            "Data columns (total 13 columns):\n",
            "id                      10865 non-null int64\n",
            "popularity              10865 non-null float64\n",
            "original_title          10865 non-null object\n",
            "cast                    10789 non-null object\n",
            "director                10821 non-null object\n",
            "runtime                 10865 non-null int64\n",
            "genres                  10842 non-null object\n",
            "production_companies    9835 non-null object\n",
            "vote_count              10865 non-null int64\n",
            "vote_average            10865 non-null float64\n",
            "release_year            10865 non-null int64\n",
            "budget_adj              10865 non-null float64\n",
            "revenue_adj             10865 non-null float64\n",
            "dtypes: float64(4), int64(4), object(5)\n",
            "memory usage: 1.2+ MB\n"
          ],
          "name": "stdout"
        }
      ]
    },
    {
      "cell_type": "code",
      "metadata": {
        "id": "2zF8cgxX9Mbw",
        "outputId": "576c800d-6fa6-454f-eeac-30c9b6552c95"
      },
      "source": [
        "#remove rows with null values\n",
        "df.dropna(inplace = True)\n",
        "df.shape"
      ],
      "execution_count": null,
      "outputs": [
        {
          "output_type": "execute_result",
          "data": {
            "text/plain": [
              "(9772, 14)"
            ]
          },
          "metadata": {
            "tags": []
          },
          "execution_count": 17
        }
      ]
    },
    {
      "cell_type": "code",
      "metadata": {
        "id": "KOdSjBWU9Mbw",
        "outputId": "76f6ef31-2b53-410f-939d-3b830a438f11"
      },
      "source": [
        "#check null values\n",
        "df.isnull().sum()"
      ],
      "execution_count": null,
      "outputs": [
        {
          "output_type": "execute_result",
          "data": {
            "text/plain": [
              "id                         0\n",
              "popularity                 0\n",
              "original_title             0\n",
              "cast                      76\n",
              "director                  44\n",
              "runtime                    0\n",
              "genres                    23\n",
              "production_companies    1030\n",
              "vote_count                 0\n",
              "vote_average               0\n",
              "release_year               0\n",
              "budget_adj                 0\n",
              "revenue_adj                0\n",
              "dtype: int64"
            ]
          },
          "metadata": {
            "tags": []
          },
          "execution_count": 8
        }
      ]
    },
    {
      "cell_type": "code",
      "metadata": {
        "id": "xCRHQixS9Mbx",
        "outputId": "3eead027-53ab-4298-a02f-4488f32685a0"
      },
      "source": [
        "#rename columns to be easy to read\n",
        "df.rename(columns = {'budget_adj':'budget', 'revenue_adj':'revenue'}, inplace=True)\n",
        "df.info()\n",
        "df.head(3)"
      ],
      "execution_count": null,
      "outputs": [
        {
          "output_type": "stream",
          "text": [
            "<class 'pandas.core.frame.DataFrame'>\n",
            "Int64Index: 10865 entries, 0 to 10865\n",
            "Data columns (total 13 columns):\n",
            "id                      10865 non-null int64\n",
            "popularity              10865 non-null float64\n",
            "original_title          10865 non-null object\n",
            "cast                    10789 non-null object\n",
            "director                10821 non-null object\n",
            "runtime                 10865 non-null int64\n",
            "genres                  10842 non-null object\n",
            "production_companies    9835 non-null object\n",
            "vote_count              10865 non-null int64\n",
            "vote_average            10865 non-null float64\n",
            "release_year            10865 non-null int64\n",
            "budget                  10865 non-null float64\n",
            "revenue                 10865 non-null float64\n",
            "dtypes: float64(4), int64(4), object(5)\n",
            "memory usage: 1.2+ MB\n"
          ],
          "name": "stdout"
        },
        {
          "output_type": "execute_result",
          "data": {
            "text/html": [
              "<div>\n",
              "<style scoped>\n",
              "    .dataframe tbody tr th:only-of-type {\n",
              "        vertical-align: middle;\n",
              "    }\n",
              "\n",
              "    .dataframe tbody tr th {\n",
              "        vertical-align: top;\n",
              "    }\n",
              "\n",
              "    .dataframe thead th {\n",
              "        text-align: right;\n",
              "    }\n",
              "</style>\n",
              "<table border=\"1\" class=\"dataframe\">\n",
              "  <thead>\n",
              "    <tr style=\"text-align: right;\">\n",
              "      <th></th>\n",
              "      <th>id</th>\n",
              "      <th>popularity</th>\n",
              "      <th>original_title</th>\n",
              "      <th>cast</th>\n",
              "      <th>director</th>\n",
              "      <th>runtime</th>\n",
              "      <th>genres</th>\n",
              "      <th>production_companies</th>\n",
              "      <th>vote_count</th>\n",
              "      <th>vote_average</th>\n",
              "      <th>release_year</th>\n",
              "      <th>budget</th>\n",
              "      <th>revenue</th>\n",
              "    </tr>\n",
              "  </thead>\n",
              "  <tbody>\n",
              "    <tr>\n",
              "      <th>0</th>\n",
              "      <td>135397</td>\n",
              "      <td>32.985763</td>\n",
              "      <td>Jurassic World</td>\n",
              "      <td>Chris Pratt|Bryce Dallas Howard|Irrfan Khan|Vi...</td>\n",
              "      <td>Colin Trevorrow</td>\n",
              "      <td>124</td>\n",
              "      <td>Action|Adventure|Science Fiction|Thriller</td>\n",
              "      <td>Universal Studios|Amblin Entertainment|Legenda...</td>\n",
              "      <td>5562</td>\n",
              "      <td>6.5</td>\n",
              "      <td>2015</td>\n",
              "      <td>1.379999e+08</td>\n",
              "      <td>1.392446e+09</td>\n",
              "    </tr>\n",
              "    <tr>\n",
              "      <th>1</th>\n",
              "      <td>76341</td>\n",
              "      <td>28.419936</td>\n",
              "      <td>Mad Max: Fury Road</td>\n",
              "      <td>Tom Hardy|Charlize Theron|Hugh Keays-Byrne|Nic...</td>\n",
              "      <td>George Miller</td>\n",
              "      <td>120</td>\n",
              "      <td>Action|Adventure|Science Fiction|Thriller</td>\n",
              "      <td>Village Roadshow Pictures|Kennedy Miller Produ...</td>\n",
              "      <td>6185</td>\n",
              "      <td>7.1</td>\n",
              "      <td>2015</td>\n",
              "      <td>1.379999e+08</td>\n",
              "      <td>3.481613e+08</td>\n",
              "    </tr>\n",
              "    <tr>\n",
              "      <th>2</th>\n",
              "      <td>262500</td>\n",
              "      <td>13.112507</td>\n",
              "      <td>Insurgent</td>\n",
              "      <td>Shailene Woodley|Theo James|Kate Winslet|Ansel...</td>\n",
              "      <td>Robert Schwentke</td>\n",
              "      <td>119</td>\n",
              "      <td>Adventure|Science Fiction|Thriller</td>\n",
              "      <td>Summit Entertainment|Mandeville Films|Red Wago...</td>\n",
              "      <td>2480</td>\n",
              "      <td>6.3</td>\n",
              "      <td>2015</td>\n",
              "      <td>1.012000e+08</td>\n",
              "      <td>2.716190e+08</td>\n",
              "    </tr>\n",
              "  </tbody>\n",
              "</table>\n",
              "</div>"
            ],
            "text/plain": [
              "       id  popularity      original_title  \\\n",
              "0  135397   32.985763      Jurassic World   \n",
              "1   76341   28.419936  Mad Max: Fury Road   \n",
              "2  262500   13.112507           Insurgent   \n",
              "\n",
              "                                                cast          director  \\\n",
              "0  Chris Pratt|Bryce Dallas Howard|Irrfan Khan|Vi...   Colin Trevorrow   \n",
              "1  Tom Hardy|Charlize Theron|Hugh Keays-Byrne|Nic...     George Miller   \n",
              "2  Shailene Woodley|Theo James|Kate Winslet|Ansel...  Robert Schwentke   \n",
              "\n",
              "   runtime                                     genres  \\\n",
              "0      124  Action|Adventure|Science Fiction|Thriller   \n",
              "1      120  Action|Adventure|Science Fiction|Thriller   \n",
              "2      119         Adventure|Science Fiction|Thriller   \n",
              "\n",
              "                                production_companies  vote_count  \\\n",
              "0  Universal Studios|Amblin Entertainment|Legenda...        5562   \n",
              "1  Village Roadshow Pictures|Kennedy Miller Produ...        6185   \n",
              "2  Summit Entertainment|Mandeville Films|Red Wago...        2480   \n",
              "\n",
              "   vote_average  release_year        budget       revenue  \n",
              "0           6.5          2015  1.379999e+08  1.392446e+09  \n",
              "1           7.1          2015  1.379999e+08  3.481613e+08  \n",
              "2           6.3          2015  1.012000e+08  2.716190e+08  "
            ]
          },
          "metadata": {
            "tags": []
          },
          "execution_count": 9
        }
      ]
    },
    {
      "cell_type": "code",
      "metadata": {
        "id": "egaWxuMt9Mbx"
      },
      "source": [
        ""
      ],
      "execution_count": null,
      "outputs": []
    },
    {
      "cell_type": "code",
      "metadata": {
        "id": "CBkwPoVc9Mby"
      },
      "source": [
        "# convert from int to datetime\n",
        "df['release_year'] = pd.to_datetime(df['release_year'])"
      ],
      "execution_count": null,
      "outputs": []
    },
    {
      "cell_type": "code",
      "metadata": {
        "id": "wCkDD7n19Mby"
      },
      "source": [
        ""
      ],
      "execution_count": null,
      "outputs": []
    },
    {
      "cell_type": "code",
      "metadata": {
        "id": "Es3hbCE79Mby"
      },
      "source": [
        ""
      ],
      "execution_count": null,
      "outputs": []
    },
    {
      "cell_type": "markdown",
      "metadata": {
        "id": "PF3YuU639Mby"
      },
      "source": [
        "## Exploratory Data Analysis\n",
        "> I will explore the data to answer the below question in some different visualizations shape"
      ]
    },
    {
      "cell_type": "code",
      "metadata": {
        "id": "2mVGMtrB9Mbz"
      },
      "source": [
        ""
      ],
      "execution_count": null,
      "outputs": []
    },
    {
      "cell_type": "code",
      "metadata": {
        "id": "3aklhk8-9Mbz",
        "outputId": "edadf2c4-e6d3-412c-cd49-77f90dc63db4"
      },
      "source": [
        "df.hist(figsize=(10,8))"
      ],
      "execution_count": null,
      "outputs": [
        {
          "output_type": "execute_result",
          "data": {
            "text/plain": [
              "array([[<matplotlib.axes._subplots.AxesSubplot object at 0x7f0911140438>,\n",
              "        <matplotlib.axes._subplots.AxesSubplot object at 0x7f09110a1630>,\n",
              "        <matplotlib.axes._subplots.AxesSubplot object at 0x7f091105a630>],\n",
              "       [<matplotlib.axes._subplots.AxesSubplot object at 0x7f0911086080>,\n",
              "        <matplotlib.axes._subplots.AxesSubplot object at 0x7f0911042630>,\n",
              "        <matplotlib.axes._subplots.AxesSubplot object at 0x7f0911042668>],\n",
              "       [<matplotlib.axes._subplots.AxesSubplot object at 0x7f0910fb5a90>,\n",
              "        <matplotlib.axes._subplots.AxesSubplot object at 0x7f0910f6cfd0>,\n",
              "        <matplotlib.axes._subplots.AxesSubplot object at 0x7f0910f18e10>]], dtype=object)"
            ]
          },
          "metadata": {
            "tags": []
          },
          "execution_count": 11
        },
        {
          "output_type": "display_data",
          "data": {
            "image/png": "[encoded data removed]",
            "text/plain": [
              "<matplotlib.figure.Figure at 0x7f0911126a90>"
            ]
          },
          "metadata": {
            "tags": [],
            "needs_background": "light"
          }
        }
      ]
    },
    {
      "cell_type": "markdown",
      "metadata": {
        "id": "bkP48u8w9Mbz"
      },
      "source": [
        "## Q1 : what is the runtime the more popular movies take?"
      ]
    },
    {
      "cell_type": "code",
      "metadata": {
        "id": "CG7JR4dJ9Mb0",
        "outputId": "3a1d87bf-a43e-4034-e37d-2c87f10814cc"
      },
      "source": [
        "#using group by function to make the group of the data according to their runtime & find the mean popularity\n",
        "df.groupby('runtime')['popularity'].mean().plot(figsize = (10,5),xticks=np.arange(0,1000,100))\n",
        "\n",
        "#setup the title of the figure\n",
        "plt.title(\"Runtime Vs Popularity\",fontsize = 16)\n",
        "\n",
        "#setup the x-label and y-label of the plot.\n",
        "plt.xlabel('Runtime',fontsize = 13)\n",
        "plt.ylabel('Average Popularity',fontsize = 13)\n",
        "\n",
        "#setup the figure size.\n",
        "sns.set(rc={'figure.figsize':(10,5)})\n",
        "sns.set_style(\"whitegrid\")"
      ],
      "execution_count": null,
      "outputs": [
        {
          "output_type": "display_data",
          "data": {
            "image/png": "[encoded data removed]",
            "text/plain": [
              "<matplotlib.figure.Figure at 0x7f628c768cc0>"
            ]
          },
          "metadata": {
            "tags": []
          }
        }
      ]
    },
    {
      "cell_type": "markdown",
      "metadata": {
        "id": "KmtrowqW9Mb0"
      },
      "source": [
        "###  from the plot we can infer that movies in the range of 100-200 runtime most popular and viewers loves to watch it "
      ]
    },
    {
      "cell_type": "code",
      "metadata": {
        "id": "DbDidNMP9Mb0"
      },
      "source": [
        ""
      ],
      "execution_count": null,
      "outputs": []
    },
    {
      "cell_type": "markdown",
      "metadata": {
        "id": "dKGHoi6d9Mb1"
      },
      "source": [
        "# Q2 : Which movies are the most high profitable in the market ?"
      ]
    },
    {
      "cell_type": "markdown",
      "metadata": {
        "id": "Po70WlJd9Mb1"
      },
      "source": [
        "#### first , i Create new column for the profit"
      ]
    },
    {
      "cell_type": "code",
      "metadata": {
        "id": "T7UiT2Kf9Mb1"
      },
      "source": [
        "df['profit'] = df['revenue'] - df['budget']"
      ],
      "execution_count": null,
      "outputs": []
    },
    {
      "cell_type": "code",
      "metadata": {
        "id": "UuUB4C7w9Mb1",
        "outputId": "0691f4a5-f1e9-4746-d252-7c0b36dddfb6"
      },
      "source": [
        "df.sort_values(['profit'], ascending = False).head(5)"
      ],
      "execution_count": null,
      "outputs": [
        {
          "output_type": "execute_result",
          "data": {
            "text/html": [
              "<div>\n",
              "<style scoped>\n",
              "    .dataframe tbody tr th:only-of-type {\n",
              "        vertical-align: middle;\n",
              "    }\n",
              "\n",
              "    .dataframe tbody tr th {\n",
              "        vertical-align: top;\n",
              "    }\n",
              "\n",
              "    .dataframe thead th {\n",
              "        text-align: right;\n",
              "    }\n",
              "</style>\n",
              "<table border=\"1\" class=\"dataframe\">\n",
              "  <thead>\n",
              "    <tr style=\"text-align: right;\">\n",
              "      <th></th>\n",
              "      <th>id</th>\n",
              "      <th>popularity</th>\n",
              "      <th>original_title</th>\n",
              "      <th>cast</th>\n",
              "      <th>director</th>\n",
              "      <th>runtime</th>\n",
              "      <th>genres</th>\n",
              "      <th>production_companies</th>\n",
              "      <th>vote_count</th>\n",
              "      <th>vote_average</th>\n",
              "      <th>release_year</th>\n",
              "      <th>budget</th>\n",
              "      <th>revenue</th>\n",
              "      <th>profit</th>\n",
              "    </tr>\n",
              "  </thead>\n",
              "  <tbody>\n",
              "    <tr>\n",
              "      <th>1329</th>\n",
              "      <td>11</td>\n",
              "      <td>12.037933</td>\n",
              "      <td>Star Wars</td>\n",
              "      <td>Mark Hamill|Harrison Ford|Carrie Fisher|Peter ...</td>\n",
              "      <td>George Lucas</td>\n",
              "      <td>121</td>\n",
              "      <td>Adventure|Action|Science Fiction</td>\n",
              "      <td>Lucasfilm|Twentieth Century Fox Film Corporation</td>\n",
              "      <td>4428</td>\n",
              "      <td>7.9</td>\n",
              "      <td>1970-01-01 00:00:00.000001977</td>\n",
              "      <td>3.957559e+07</td>\n",
              "      <td>2.789712e+09</td>\n",
              "      <td>2.750137e+09</td>\n",
              "    </tr>\n",
              "    <tr>\n",
              "      <th>1386</th>\n",
              "      <td>19995</td>\n",
              "      <td>9.432768</td>\n",
              "      <td>Avatar</td>\n",
              "      <td>Sam Worthington|Zoe Saldana|Sigourney Weaver|S...</td>\n",
              "      <td>James Cameron</td>\n",
              "      <td>162</td>\n",
              "      <td>Action|Adventure|Fantasy|Science Fiction</td>\n",
              "      <td>Ingenious Film Partners|Twentieth Century Fox ...</td>\n",
              "      <td>8458</td>\n",
              "      <td>7.1</td>\n",
              "      <td>1970-01-01 00:00:00.000002009</td>\n",
              "      <td>2.408869e+08</td>\n",
              "      <td>2.827124e+09</td>\n",
              "      <td>2.586237e+09</td>\n",
              "    </tr>\n",
              "    <tr>\n",
              "      <th>5231</th>\n",
              "      <td>597</td>\n",
              "      <td>4.355219</td>\n",
              "      <td>Titanic</td>\n",
              "      <td>Kate Winslet|Leonardo DiCaprio|Frances Fisher|...</td>\n",
              "      <td>James Cameron</td>\n",
              "      <td>194</td>\n",
              "      <td>Drama|Romance|Thriller</td>\n",
              "      <td>Paramount Pictures|Twentieth Century Fox Film ...</td>\n",
              "      <td>4654</td>\n",
              "      <td>7.3</td>\n",
              "      <td>1970-01-01 00:00:00.000001997</td>\n",
              "      <td>2.716921e+08</td>\n",
              "      <td>2.506406e+09</td>\n",
              "      <td>2.234714e+09</td>\n",
              "    </tr>\n",
              "    <tr>\n",
              "      <th>10594</th>\n",
              "      <td>9552</td>\n",
              "      <td>2.010733</td>\n",
              "      <td>The Exorcist</td>\n",
              "      <td>Linda Blair|Max von Sydow|Ellen Burstyn|Jason ...</td>\n",
              "      <td>William Friedkin</td>\n",
              "      <td>122</td>\n",
              "      <td>Drama|Horror|Thriller</td>\n",
              "      <td>Warner Bros.|Hoya Productions</td>\n",
              "      <td>1113</td>\n",
              "      <td>7.2</td>\n",
              "      <td>1970-01-01 00:00:00.000001973</td>\n",
              "      <td>3.928928e+07</td>\n",
              "      <td>2.167325e+09</td>\n",
              "      <td>2.128036e+09</td>\n",
              "    </tr>\n",
              "    <tr>\n",
              "      <th>9806</th>\n",
              "      <td>578</td>\n",
              "      <td>2.563191</td>\n",
              "      <td>Jaws</td>\n",
              "      <td>Roy Scheider|Robert Shaw|Richard Dreyfuss|Lorr...</td>\n",
              "      <td>Steven Spielberg</td>\n",
              "      <td>124</td>\n",
              "      <td>Horror|Thriller|Adventure</td>\n",
              "      <td>Universal Pictures|Zanuck/Brown Productions</td>\n",
              "      <td>1415</td>\n",
              "      <td>7.3</td>\n",
              "      <td>1970-01-01 00:00:00.000001975</td>\n",
              "      <td>2.836275e+07</td>\n",
              "      <td>1.907006e+09</td>\n",
              "      <td>1.878643e+09</td>\n",
              "    </tr>\n",
              "  </tbody>\n",
              "</table>\n",
              "</div>"
            ],
            "text/plain": [
              "          id  popularity original_title  \\\n",
              "1329      11   12.037933      Star Wars   \n",
              "1386   19995    9.432768         Avatar   \n",
              "5231     597    4.355219        Titanic   \n",
              "10594   9552    2.010733   The Exorcist   \n",
              "9806     578    2.563191           Jaws   \n",
              "\n",
              "                                                    cast          director  \\\n",
              "1329   Mark Hamill|Harrison Ford|Carrie Fisher|Peter ...      George Lucas   \n",
              "1386   Sam Worthington|Zoe Saldana|Sigourney Weaver|S...     James Cameron   \n",
              "5231   Kate Winslet|Leonardo DiCaprio|Frances Fisher|...     James Cameron   \n",
              "10594  Linda Blair|Max von Sydow|Ellen Burstyn|Jason ...  William Friedkin   \n",
              "9806   Roy Scheider|Robert Shaw|Richard Dreyfuss|Lorr...  Steven Spielberg   \n",
              "\n",
              "       runtime                                    genres  \\\n",
              "1329       121          Adventure|Action|Science Fiction   \n",
              "1386       162  Action|Adventure|Fantasy|Science Fiction   \n",
              "5231       194                    Drama|Romance|Thriller   \n",
              "10594      122                     Drama|Horror|Thriller   \n",
              "9806       124                 Horror|Thriller|Adventure   \n",
              "\n",
              "                                    production_companies  vote_count  \\\n",
              "1329    Lucasfilm|Twentieth Century Fox Film Corporation        4428   \n",
              "1386   Ingenious Film Partners|Twentieth Century Fox ...        8458   \n",
              "5231   Paramount Pictures|Twentieth Century Fox Film ...        4654   \n",
              "10594                      Warner Bros.|Hoya Productions        1113   \n",
              "9806         Universal Pictures|Zanuck/Brown Productions        1415   \n",
              "\n",
              "       vote_average                  release_year        budget       revenue  \\\n",
              "1329            7.9 1970-01-01 00:00:00.000001977  3.957559e+07  2.789712e+09   \n",
              "1386            7.1 1970-01-01 00:00:00.000002009  2.408869e+08  2.827124e+09   \n",
              "5231            7.3 1970-01-01 00:00:00.000001997  2.716921e+08  2.506406e+09   \n",
              "10594           7.2 1970-01-01 00:00:00.000001973  3.928928e+07  2.167325e+09   \n",
              "9806            7.3 1970-01-01 00:00:00.000001975  2.836275e+07  1.907006e+09   \n",
              "\n",
              "             profit  \n",
              "1329   2.750137e+09  \n",
              "1386   2.586237e+09  \n",
              "5231   2.234714e+09  \n",
              "10594  2.128036e+09  \n",
              "9806   1.878643e+09  "
            ]
          },
          "metadata": {
            "tags": []
          },
          "execution_count": 14
        }
      ]
    },
    {
      "cell_type": "markdown",
      "metadata": {
        "id": "tXk3OH9l9Mb2"
      },
      "source": [
        "#### from this table we can find the top 5 movies and all information about them included the most earned profit"
      ]
    },
    {
      "cell_type": "code",
      "metadata": {
        "id": "wrOXA6c59Mb2"
      },
      "source": [
        ""
      ],
      "execution_count": null,
      "outputs": []
    },
    {
      "cell_type": "markdown",
      "metadata": {
        "id": "MehOfZ8b9Mb2"
      },
      "source": [
        "# Q3 : in Which years do movies made the  high profits?"
      ]
    },
    {
      "cell_type": "code",
      "metadata": {
        "id": "7x0Ykl0f9Mb2",
        "outputId": "a111b9c4-0075-4b05-dbc4-1838d4bba43c"
      },
      "source": [
        "profit_year = df.groupby('release_year')['profit'].sum()\n",
        "profit_year.head(5)"
      ],
      "execution_count": null,
      "outputs": [
        {
          "output_type": "execute_result",
          "data": {
            "text/plain": [
              "release_year\n",
              "1970-01-01 00:00:00.000001960    9.064920e+08\n",
              "1970-01-01 00:00:00.000001961    2.127059e+09\n",
              "1970-01-01 00:00:00.000001962    1.159535e+09\n",
              "1970-01-01 00:00:00.000001963    8.122237e+08\n",
              "1970-01-01 00:00:00.000001964    2.119616e+09\n",
              "Name: profit, dtype: float64"
            ]
          },
          "metadata": {
            "tags": []
          },
          "execution_count": 21
        }
      ]
    },
    {
      "cell_type": "code",
      "metadata": {
        "id": "KntahC9K9Mb3",
        "outputId": "c31ed0db-c7c3-4b2f-cf23-3368de3d3eed"
      },
      "source": [
        "profit_year.hist(figsize = (8,6))\n",
        "plt.xlabel('Released year movies ', fontsize = 12)\n",
        "plt.ylabel('The total Profits made by Movies', fontsize = 12)\n",
        "plt.title('Total Profits vs Movie Years', fontsize = 14);"
      ],
      "execution_count": null,
      "outputs": [
        {
          "output_type": "display_data",
          "data": {
            "image/png": "[encoded data removed]",
            "text/plain": [
              "<matplotlib.figure.Figure at 0x7f094186c780>"
            ]
          },
          "metadata": {
            "tags": [],
            "needs_background": "light"
          }
        }
      ]
    },
    {
      "cell_type": "code",
      "metadata": {
        "id": "Mk_szu3_9Mb3"
      },
      "source": [
        "##from this "
      ],
      "execution_count": null,
      "outputs": []
    },
    {
      "cell_type": "code",
      "metadata": {
        "id": "43E9PwM19Mb3"
      },
      "source": [
        ""
      ],
      "execution_count": null,
      "outputs": []
    },
    {
      "cell_type": "markdown",
      "metadata": {
        "id": "Fp_iwQla9Mb4"
      },
      "source": [
        "# Q4:  Which movie that acheve the highest or lowest Profit?"
      ]
    },
    {
      "cell_type": "code",
      "metadata": {
        "id": "7aRJp5_N9Mb4"
      },
      "source": [
        ""
      ],
      "execution_count": null,
      "outputs": []
    },
    {
      "cell_type": "code",
      "metadata": {
        "id": "lZiFS-zM9Mb4"
      },
      "source": [
        "df['profit'] = df['revenue'] - df['budget']"
      ],
      "execution_count": null,
      "outputs": []
    },
    {
      "cell_type": "code",
      "metadata": {
        "id": "mQcHtHMq9Mb4",
        "outputId": "9ba837f1-cadb-47cd-aec0-d61485cedbf5"
      },
      "source": [
        "def find_minmax(x):\n",
        "   \n",
        "    #use the function 'idmax' to find the index of Highest profit movie.\n",
        "    max_index = df[x].idxmax()\n",
        "    #use the function 'idmin' to find the index of lowest profit movie.\n",
        "    min_index = df[x].idxmin()\n",
        "    \n",
        "    high = pd.DataFrame(df.loc[max_index,:])\n",
        "    low = pd.DataFrame(df.loc[min_index,:])\n",
        "    \n",
        "    #print the movie with high and low profit\n",
        "    print(\"Movie Which Has Highest \"+ x + \" : \",df['original_title'][max_index])\n",
        "    print(\"Movie Which Has Lowest \"+ x + \"  : \",df['original_title'][min_index])\n",
        "    return pd.concat([high,low],axis = 1)\n",
        "\n",
        "#call the find_minmax function.\n",
        "find_minmax('profit')"
      ],
      "execution_count": null,
      "outputs": [
        {
          "output_type": "stream",
          "text": [
            "Movie Which Has Highest profit :  Star Wars\n",
            "Movie Which Has Lowest profit  :  The Warrior's Way\n"
          ],
          "name": "stdout"
        },
        {
          "output_type": "execute_result",
          "data": {
            "text/html": [
              "<div>\n",
              "<style scoped>\n",
              "    .dataframe tbody tr th:only-of-type {\n",
              "        vertical-align: middle;\n",
              "    }\n",
              "\n",
              "    .dataframe tbody tr th {\n",
              "        vertical-align: top;\n",
              "    }\n",
              "\n",
              "    .dataframe thead th {\n",
              "        text-align: right;\n",
              "    }\n",
              "</style>\n",
              "<table border=\"1\" class=\"dataframe\">\n",
              "  <thead>\n",
              "    <tr style=\"text-align: right;\">\n",
              "      <th></th>\n",
              "      <th>1329</th>\n",
              "      <th>2244</th>\n",
              "    </tr>\n",
              "  </thead>\n",
              "  <tbody>\n",
              "    <tr>\n",
              "      <th>id</th>\n",
              "      <td>11</td>\n",
              "      <td>46528</td>\n",
              "    </tr>\n",
              "    <tr>\n",
              "      <th>popularity</th>\n",
              "      <td>12.0379</td>\n",
              "      <td>0.25054</td>\n",
              "    </tr>\n",
              "    <tr>\n",
              "      <th>original_title</th>\n",
              "      <td>Star Wars</td>\n",
              "      <td>The Warrior's Way</td>\n",
              "    </tr>\n",
              "    <tr>\n",
              "      <th>cast</th>\n",
              "      <td>Mark Hamill|Harrison Ford|Carrie Fisher|Peter ...</td>\n",
              "      <td>Kate Bosworth|Jang Dong-gun|Geoffrey Rush|Dann...</td>\n",
              "    </tr>\n",
              "    <tr>\n",
              "      <th>director</th>\n",
              "      <td>George Lucas</td>\n",
              "      <td>Sngmoo Lee</td>\n",
              "    </tr>\n",
              "    <tr>\n",
              "      <th>runtime</th>\n",
              "      <td>121</td>\n",
              "      <td>100</td>\n",
              "    </tr>\n",
              "    <tr>\n",
              "      <th>genres</th>\n",
              "      <td>Adventure|Action|Science Fiction</td>\n",
              "      <td>Adventure|Fantasy|Action|Western|Thriller</td>\n",
              "    </tr>\n",
              "    <tr>\n",
              "      <th>production_companies</th>\n",
              "      <td>Lucasfilm|Twentieth Century Fox Film Corporation</td>\n",
              "      <td>Boram Entertainment Inc.</td>\n",
              "    </tr>\n",
              "    <tr>\n",
              "      <th>vote_count</th>\n",
              "      <td>4428</td>\n",
              "      <td>74</td>\n",
              "    </tr>\n",
              "    <tr>\n",
              "      <th>vote_average</th>\n",
              "      <td>7.9</td>\n",
              "      <td>6.4</td>\n",
              "    </tr>\n",
              "    <tr>\n",
              "      <th>release_year</th>\n",
              "      <td>1970-01-01 00:00:00.000001977</td>\n",
              "      <td>1970-01-01 00:00:00.000002010</td>\n",
              "    </tr>\n",
              "    <tr>\n",
              "      <th>budget</th>\n",
              "      <td>3.95756e+07</td>\n",
              "      <td>4.25e+08</td>\n",
              "    </tr>\n",
              "    <tr>\n",
              "      <th>revenue</th>\n",
              "      <td>2.78971e+09</td>\n",
              "      <td>1.10876e+07</td>\n",
              "    </tr>\n",
              "    <tr>\n",
              "      <th>profit</th>\n",
              "      <td>2.75014e+09</td>\n",
              "      <td>-4.13912e+08</td>\n",
              "    </tr>\n",
              "  </tbody>\n",
              "</table>\n",
              "</div>"
            ],
            "text/plain": [
              "                                                                   1329  \\\n",
              "id                                                                   11   \n",
              "popularity                                                      12.0379   \n",
              "original_title                                                Star Wars   \n",
              "cast                  Mark Hamill|Harrison Ford|Carrie Fisher|Peter ...   \n",
              "director                                                   George Lucas   \n",
              "runtime                                                             121   \n",
              "genres                                 Adventure|Action|Science Fiction   \n",
              "production_companies   Lucasfilm|Twentieth Century Fox Film Corporation   \n",
              "vote_count                                                         4428   \n",
              "vote_average                                                        7.9   \n",
              "release_year                              1970-01-01 00:00:00.000001977   \n",
              "budget                                                      3.95756e+07   \n",
              "revenue                                                     2.78971e+09   \n",
              "profit                                                      2.75014e+09   \n",
              "\n",
              "                                                                   2244  \n",
              "id                                                                46528  \n",
              "popularity                                                      0.25054  \n",
              "original_title                                        The Warrior's Way  \n",
              "cast                  Kate Bosworth|Jang Dong-gun|Geoffrey Rush|Dann...  \n",
              "director                                                     Sngmoo Lee  \n",
              "runtime                                                             100  \n",
              "genres                        Adventure|Fantasy|Action|Western|Thriller  \n",
              "production_companies                           Boram Entertainment Inc.  \n",
              "vote_count                                                           74  \n",
              "vote_average                                                        6.4  \n",
              "release_year                              1970-01-01 00:00:00.000002010  \n",
              "budget                                                         4.25e+08  \n",
              "revenue                                                     1.10876e+07  \n",
              "profit                                                     -4.13912e+08  "
            ]
          },
          "metadata": {
            "tags": []
          },
          "execution_count": 62
        }
      ]
    },
    {
      "cell_type": "markdown",
      "metadata": {
        "id": "rCTnDsJz9Mb5"
      },
      "source": [
        "# Q5: which movie with the highest & lowest Budget?"
      ]
    },
    {
      "cell_type": "code",
      "metadata": {
        "id": "qhrrEpjB9Mb5",
        "outputId": "7376f541-07df-4f9b-aa6c-5e1fe22f4708"
      },
      "source": [
        "df['budget'] = df['budget'].replace(0,np.NAN)\n",
        "find_minmax('budget')"
      ],
      "execution_count": null,
      "outputs": [
        {
          "output_type": "stream",
          "text": [
            "Movie Which Has Highest budget :  The Warrior's Way\n",
            "Movie Which Has Lowest budget  :  Fear Clinic\n"
          ],
          "name": "stdout"
        },
        {
          "output_type": "execute_result",
          "data": {
            "text/html": [
              "<div>\n",
              "<style scoped>\n",
              "    .dataframe tbody tr th:only-of-type {\n",
              "        vertical-align: middle;\n",
              "    }\n",
              "\n",
              "    .dataframe tbody tr th {\n",
              "        vertical-align: top;\n",
              "    }\n",
              "\n",
              "    .dataframe thead th {\n",
              "        text-align: right;\n",
              "    }\n",
              "</style>\n",
              "<table border=\"1\" class=\"dataframe\">\n",
              "  <thead>\n",
              "    <tr style=\"text-align: right;\">\n",
              "      <th></th>\n",
              "      <th>2244</th>\n",
              "      <th>1151</th>\n",
              "    </tr>\n",
              "  </thead>\n",
              "  <tbody>\n",
              "    <tr>\n",
              "      <th>id</th>\n",
              "      <td>46528</td>\n",
              "      <td>287524</td>\n",
              "    </tr>\n",
              "    <tr>\n",
              "      <th>popularity</th>\n",
              "      <td>0.25054</td>\n",
              "      <td>0.177102</td>\n",
              "    </tr>\n",
              "    <tr>\n",
              "      <th>original_title</th>\n",
              "      <td>The Warrior's Way</td>\n",
              "      <td>Fear Clinic</td>\n",
              "    </tr>\n",
              "    <tr>\n",
              "      <th>cast</th>\n",
              "      <td>Kate Bosworth|Jang Dong-gun|Geoffrey Rush|Dann...</td>\n",
              "      <td>Thomas Dekker|Robert Englund|Cleopatra Coleman...</td>\n",
              "    </tr>\n",
              "    <tr>\n",
              "      <th>director</th>\n",
              "      <td>Sngmoo Lee</td>\n",
              "      <td>Robert Hall</td>\n",
              "    </tr>\n",
              "    <tr>\n",
              "      <th>runtime</th>\n",
              "      <td>100</td>\n",
              "      <td>95</td>\n",
              "    </tr>\n",
              "    <tr>\n",
              "      <th>genres</th>\n",
              "      <td>Adventure|Fantasy|Action|Western|Thriller</td>\n",
              "      <td>Horror</td>\n",
              "    </tr>\n",
              "    <tr>\n",
              "      <th>production_companies</th>\n",
              "      <td>Boram Entertainment Inc.</td>\n",
              "      <td>Dry County Films|Anchor Bay Entertainment|Movi...</td>\n",
              "    </tr>\n",
              "    <tr>\n",
              "      <th>vote_count</th>\n",
              "      <td>74</td>\n",
              "      <td>15</td>\n",
              "    </tr>\n",
              "    <tr>\n",
              "      <th>vote_average</th>\n",
              "      <td>6.4</td>\n",
              "      <td>4.1</td>\n",
              "    </tr>\n",
              "    <tr>\n",
              "      <th>release_year</th>\n",
              "      <td>1970-01-01 00:00:00.000002010</td>\n",
              "      <td>1970-01-01 00:00:00.000002014</td>\n",
              "    </tr>\n",
              "    <tr>\n",
              "      <th>budget</th>\n",
              "      <td>4.25e+08</td>\n",
              "      <td>0.921091</td>\n",
              "    </tr>\n",
              "    <tr>\n",
              "      <th>revenue</th>\n",
              "      <td>1.10876e+07</td>\n",
              "      <td>0</td>\n",
              "    </tr>\n",
              "    <tr>\n",
              "      <th>profit</th>\n",
              "      <td>-4.13912e+08</td>\n",
              "      <td>-0.921091</td>\n",
              "    </tr>\n",
              "  </tbody>\n",
              "</table>\n",
              "</div>"
            ],
            "text/plain": [
              "                                                                   2244  \\\n",
              "id                                                                46528   \n",
              "popularity                                                      0.25054   \n",
              "original_title                                        The Warrior's Way   \n",
              "cast                  Kate Bosworth|Jang Dong-gun|Geoffrey Rush|Dann...   \n",
              "director                                                     Sngmoo Lee   \n",
              "runtime                                                             100   \n",
              "genres                        Adventure|Fantasy|Action|Western|Thriller   \n",
              "production_companies                           Boram Entertainment Inc.   \n",
              "vote_count                                                           74   \n",
              "vote_average                                                        6.4   \n",
              "release_year                              1970-01-01 00:00:00.000002010   \n",
              "budget                                                         4.25e+08   \n",
              "revenue                                                     1.10876e+07   \n",
              "profit                                                     -4.13912e+08   \n",
              "\n",
              "                                                                   1151  \n",
              "id                                                               287524  \n",
              "popularity                                                     0.177102  \n",
              "original_title                                              Fear Clinic  \n",
              "cast                  Thomas Dekker|Robert Englund|Cleopatra Coleman...  \n",
              "director                                                    Robert Hall  \n",
              "runtime                                                              95  \n",
              "genres                                                           Horror  \n",
              "production_companies  Dry County Films|Anchor Bay Entertainment|Movi...  \n",
              "vote_count                                                           15  \n",
              "vote_average                                                        4.1  \n",
              "release_year                              1970-01-01 00:00:00.000002014  \n",
              "budget                                                         0.921091  \n",
              "revenue                                                               0  \n",
              "profit                                                        -0.921091  "
            ]
          },
          "metadata": {
            "tags": []
          },
          "execution_count": 66
        }
      ]
    },
    {
      "cell_type": "code",
      "metadata": {
        "id": "YHr_8PI19Mb5",
        "outputId": "24bf8edb-2ab9-4266-a769-ab237318b8b5"
      },
      "source": [
        "#make a plot which contain top 5 highest budget movies.\n",
        "#sort the 'budget' column in decending order and store it in the new dataframe.\n",
        "info = pd.DataFrame(df['budget'].sort_values(ascending = False))\n",
        "info['original_title'] = df['original_title']\n",
        "data = list(map(str,(info['original_title'])))\n",
        "\n",
        "#extract the top 10 budget movies data from the list and dataframe.\n",
        "x = list(data[:5])\n",
        "y = list(info['budget'][:5])\n",
        "\n",
        "#plot the figure and setup the title and labels.\n",
        "ax = sns.pointplot(x=y,y=x)\n",
        "sns.set(rc={'figure.figsize':(10,8)})\n",
        "ax.set_title(\"Top 5 High Budget Movies\",fontsize = 15)\n",
        "ax.set_xlabel(\"Budget\",fontsize = 13)"
      ],
      "execution_count": null,
      "outputs": [
        {
          "output_type": "execute_result",
          "data": {
            "text/plain": [
              "Text(0.5,0,'Budget')"
            ]
          },
          "metadata": {
            "tags": []
          },
          "execution_count": 70
        },
        {
          "output_type": "display_data",
          "data": {
            "image/png": "[encoded data removed]",
            "text/plain": [
              "<matplotlib.figure.Figure at 0x7f628fbfde10>"
            ]
          },
          "metadata": {
            "tags": []
          }
        }
      ]
    },
    {
      "cell_type": "code",
      "metadata": {
        "id": "DIFby0579Mb6"
      },
      "source": [
        ""
      ],
      "execution_count": null,
      "outputs": []
    },
    {
      "cell_type": "markdown",
      "metadata": {
        "id": "rwevzHoU9Mb6"
      },
      "source": [
        "# Q6: How does revenue change according to their budget?"
      ]
    },
    {
      "cell_type": "code",
      "metadata": {
        "id": "2bcEy0469Mb6",
        "outputId": "1789c0e6-ee4a-455e-86aa-b15fc2681dec"
      },
      "source": [
        "ax = sns.regplot(x=df['revenue'], y=df['budget'],color='g')\n",
        "\n",
        "#set the title and labels of the figure\n",
        "ax.set_title(\"Revenue Vs Budget\",fontsize=13)\n",
        "ax.set_xlabel(\"Revenue\",fontsize=12)\n",
        "ax.set_ylabel(\"Budget\",fontsize=12)\n",
        "#set the figure size\n",
        "sns.set(rc={'figure.figsize':(6,4)})\n",
        "sns.set_style(\"ticks\")\n",
        "\n",
        "#find the correlation between them\n",
        "#change zero into NAN in budget and revenue column for the exact calculation.\n",
        "df['budget'] = df['budget'].replace(0,np.NAN)\n",
        "df['revenue'] = df['revenue'].replace(0,np.NAN)\n",
        "\n",
        "\n",
        "#find the correlation using 'corr()' function.\n",
        "#it returns a dataframe which contain the correlation between all the numeric columns.\n",
        "data_corr = df.corr()\n",
        "print(\"Correlation Between Revenue & Budget : \",data_corr.loc['revenue','budget'])"
      ],
      "execution_count": null,
      "outputs": [
        {
          "output_type": "stream",
          "text": [
            "Correlation Between Revenue And Budget :  0.56798279338\n"
          ],
          "name": "stdout"
        },
        {
          "output_type": "display_data",
          "data": {
            "image/png": "[encoded data removed]",
            "text/plain": [
              "<matplotlib.figure.Figure at 0x7f628c927e80>"
            ]
          },
          "metadata": {
            "tags": []
          }
        }
      ]
    },
    {
      "cell_type": "code",
      "metadata": {
        "id": "CYkI-PvU9Mb7"
      },
      "source": [
        ""
      ],
      "execution_count": null,
      "outputs": []
    },
    {
      "cell_type": "markdown",
      "metadata": {
        "id": "s_0x-Dmy9Mb8"
      },
      "source": [
        "# Q7 :what is the time most movies takes?"
      ]
    },
    {
      "cell_type": "code",
      "metadata": {
        "id": "FkqO4i0H9Mb8",
        "outputId": "7a1e0644-a504-4929-95d4-f1a478ed65d0"
      },
      "source": [
        "# a histogram for movie runtimes.\n",
        "\n",
        "df['runtime'].hist(figsize = (8,8),bins= 100)\n",
        "plt.xlabel('Runtime', fontsize = 15)\n",
        "plt.ylabel('Number of Movies', fontsize=15)\n",
        "plt.title('Runtime distribution of all the movies', fontsize=18);"
      ],
      "execution_count": null,
      "outputs": [
        {
          "output_type": "display_data",
          "data": {
            "image/png": "[encoded data removed]",
            "text/plain": [
              "<matplotlib.figure.Figure at 0x7f628c444be0>"
            ]
          },
          "metadata": {
            "tags": []
          }
        }
      ]
    },
    {
      "cell_type": "markdown",
      "metadata": {
        "id": "_J2QlVh79Mb8"
      },
      "source": [
        "from histogram we can deduce that most movies are in range (110:170) minutes as showen"
      ]
    },
    {
      "cell_type": "code",
      "metadata": {
        "id": "Koyt9lAe9Mb9"
      },
      "source": [
        ""
      ],
      "execution_count": null,
      "outputs": []
    },
    {
      "cell_type": "code",
      "metadata": {
        "id": "CUh7SLku9Mb9"
      },
      "source": [
        ""
      ],
      "execution_count": null,
      "outputs": []
    },
    {
      "cell_type": "markdown",
      "metadata": {
        "id": "lW6Upktk9Mb9"
      },
      "source": [
        "<a id='conclusions'></a>\n",
        "## Conclusions\n",
        "\n",
        "> **Tip**: Finally, summarize your findings and the results that have been performed. Make sure that you are clear with regards to the limitations of your exploration. If you haven't done any statistical tests, do not imply any statistical conclusions. And make sure you avoid implying causation from correlation!\n",
        "\n",
        "> **Tip**: Once you are satisfied with your work here, check over your report to make sure that it is satisfies all the areas of the rubric (found on the project submission page at the end of the lesson). You should also probably remove all of the \"Tips\" like this one so that the presentation is as polished as possible.\n",
        "\n",
        "## Limitations\n",
        " > We have used TMBD Movies dataset for our analysis and worked with popularity, revenue and runtime. Our analysis is limited to only the provided dataset. For example, the dataset does not confirm that every release of every director is listed. <br> <br>\n",
        "  During the data cleaning process , remove Null values from variables of our interest might deform the analysis and this may display unintentional bias towards the relationship being analyzed . \n",
        "  \n",
        "  # Resourses  :\n",
        "    Github\n",
        "    Googl\n",
        "    Geeksforgeeks website\n",
        "    Pandas documents\n",
        "    Mode blog"
      ]
    },
    {
      "cell_type": "code",
      "metadata": {
        "id": "nEtfdzKI9Mb-",
        "outputId": "ca2daf33-8ed7-4d63-f346-6d45b65730ba"
      },
      "source": [
        "from subprocess import call\n",
        "call(['python', '-m', 'nbconvert', 'Investigate_a_Dataset.ipynb'])"
      ],
      "execution_count": null,
      "outputs": [
        {
          "output_type": "execute_result",
          "data": {
            "text/plain": [
              "0"
            ]
          },
          "metadata": {
            "tags": []
          },
          "execution_count": 101
        }
      ]
    },
    {
      "cell_type": "code",
      "metadata": {
        "id": "AV9hF_es9Mb-"
      },
      "source": [
        ""
      ],
      "execution_count": null,
      "outputs": []
    }
  ]
}