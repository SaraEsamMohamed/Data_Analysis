{
  "nbformat": 4,
  "nbformat_minor": 0,
  "metadata": {
    "kernelspec": {
      "display_name": "Python [default]",
      "language": "python",
      "name": "python3"
    },
    "language_info": {
      "codemirror_mode": {
        "name": "ipython",
        "version": 3
      },
      "file_extension": ".py",
      "mimetype": "text/x-python",
      "name": "python",
      "nbconvert_exporter": "python",
      "pygments_lexer": "ipython3",
      "version": "3.5.3"
    },
    "colab": {
      "name": "exploration_template.ipynb",
      "provenance": [],
      "collapsed_sections": [],
      "include_colab_link": true
    }
  },
  "cells": [
    {
      "cell_type": "markdown",
      "metadata": {
        "id": "view-in-github",
        "colab_type": "text"
      },
      "source": [
        "<a href=\"https://colab.research.google.com/github/SaraEsamMohamed/Data_Analysis/blob/main/exploration_template.ipynb\" target=\"_parent\"><img src=\"https://colab.research.google.com/assets/colab-badge.svg\" alt=\"Open In Colab\"/></a>"
      ]
    },
    {
      "cell_type": "markdown",
      "metadata": {
        "id": "TYanz7JvbhnL"
      },
      "source": [
        "## PISA Data Sets\n",
        "## by Sara Esam Mohamed\n",
        "\n",
        "## Preliminary Wrangling\n",
        "> PISA is a survey of students' skills and knowledge as they approach the end of compulsory education. It is not a conventional school test. Rather than examining how well students have learned the school curriculum, it looks at how well prepared they are for life beyond school."
      ]
    },
    {
      "cell_type": "code",
      "metadata": {
        "id": "MwGPjCsZbhnN"
      },
      "source": [
        "\n",
        "# import all packages and set plots to be embedded inline\n",
        "import numpy as np\n",
        "import pandas as pd\n",
        "import matplotlib.pyplot as plt\n",
        "import seaborn as sb\n",
        "\n",
        "%matplotlib inline"
      ],
      "execution_count": null,
      "outputs": []
    },
    {
      "cell_type": "markdown",
      "metadata": {
        "id": "2iHxDt4WbhnV"
      },
      "source": [
        "> Load in your dataset and describe its properties through the questions below.\n",
        "Try and motivate your exploration goals through this section."
      ]
    },
    {
      "cell_type": "code",
      "metadata": {
        "id": "gMfVKUfzbhnX",
        "colab": {
          "base_uri": "https://localhost:8080/",
          "height": 610
        },
        "outputId": "2a9ba472-7f7a-4486-af39-dabacac86a8d"
      },
      "source": [
        "df = pd.read_csv('pisa2012.csv')\n",
        "df.head()"
      ],
      "execution_count": null,
      "outputs": [
        {
          "output_type": "execute_result",
          "data": {
            "text/html": [
              "<div>\n",
              "<style scoped>\n",
              "    .dataframe tbody tr th:only-of-type {\n",
              "        vertical-align: middle;\n",
              "    }\n",
              "\n",
              "    .dataframe tbody tr th {\n",
              "        vertical-align: top;\n",
              "    }\n",
              "\n",
              "    .dataframe thead th {\n",
              "        text-align: right;\n",
              "    }\n",
              "</style>\n",
              "<table border=\"1\" class=\"dataframe\">\n",
              "  <thead>\n",
              "    <tr style=\"text-align: right;\">\n",
              "      <th></th>\n",
              "      <th>Unnamed: 0</th>\n",
              "      <th>CNT</th>\n",
              "      <th>SUBNATIO</th>\n",
              "      <th>STRATUM</th>\n",
              "      <th>OECD</th>\n",
              "      <th>NC</th>\n",
              "      <th>SCHOOLID</th>\n",
              "      <th>STIDSTD</th>\n",
              "      <th>ST01Q01</th>\n",
              "      <th>ST02Q01</th>\n",
              "      <th>ST03Q01</th>\n",
              "      <th>ST03Q02</th>\n",
              "      <th>ST04Q01</th>\n",
              "      <th>ST05Q01</th>\n",
              "      <th>ST06Q01</th>\n",
              "      <th>ST07Q01</th>\n",
              "      <th>ST07Q02</th>\n",
              "      <th>ST07Q03</th>\n",
              "      <th>ST08Q01</th>\n",
              "      <th>ST09Q01</th>\n",
              "      <th>ST115Q01</th>\n",
              "      <th>ST11Q01</th>\n",
              "      <th>ST11Q02</th>\n",
              "      <th>ST11Q03</th>\n",
              "      <th>ST11Q04</th>\n",
              "      <th>ST11Q05</th>\n",
              "      <th>ST11Q06</th>\n",
              "      <th>ST13Q01</th>\n",
              "      <th>ST14Q01</th>\n",
              "      <th>ST14Q02</th>\n",
              "      <th>ST14Q03</th>\n",
              "      <th>ST14Q04</th>\n",
              "      <th>ST15Q01</th>\n",
              "      <th>ST17Q01</th>\n",
              "      <th>ST18Q01</th>\n",
              "      <th>ST18Q02</th>\n",
              "      <th>ST18Q03</th>\n",
              "      <th>ST18Q04</th>\n",
              "      <th>ST19Q01</th>\n",
              "      <th>ST20Q01</th>\n",
              "      <th>...</th>\n",
              "      <th>W_FSTR45</th>\n",
              "      <th>W_FSTR46</th>\n",
              "      <th>W_FSTR47</th>\n",
              "      <th>W_FSTR48</th>\n",
              "      <th>W_FSTR49</th>\n",
              "      <th>W_FSTR50</th>\n",
              "      <th>W_FSTR51</th>\n",
              "      <th>W_FSTR52</th>\n",
              "      <th>W_FSTR53</th>\n",
              "      <th>W_FSTR54</th>\n",
              "      <th>W_FSTR55</th>\n",
              "      <th>W_FSTR56</th>\n",
              "      <th>W_FSTR57</th>\n",
              "      <th>W_FSTR58</th>\n",
              "      <th>W_FSTR59</th>\n",
              "      <th>W_FSTR60</th>\n",
              "      <th>W_FSTR61</th>\n",
              "      <th>W_FSTR62</th>\n",
              "      <th>W_FSTR63</th>\n",
              "      <th>W_FSTR64</th>\n",
              "      <th>W_FSTR65</th>\n",
              "      <th>W_FSTR66</th>\n",
              "      <th>W_FSTR67</th>\n",
              "      <th>W_FSTR68</th>\n",
              "      <th>W_FSTR69</th>\n",
              "      <th>W_FSTR70</th>\n",
              "      <th>W_FSTR71</th>\n",
              "      <th>W_FSTR72</th>\n",
              "      <th>W_FSTR73</th>\n",
              "      <th>W_FSTR74</th>\n",
              "      <th>W_FSTR75</th>\n",
              "      <th>W_FSTR76</th>\n",
              "      <th>W_FSTR77</th>\n",
              "      <th>W_FSTR78</th>\n",
              "      <th>W_FSTR79</th>\n",
              "      <th>W_FSTR80</th>\n",
              "      <th>WVARSTRR</th>\n",
              "      <th>VAR_UNIT</th>\n",
              "      <th>SENWGT_STU</th>\n",
              "      <th>VER_STU</th>\n",
              "    </tr>\n",
              "  </thead>\n",
              "  <tbody>\n",
              "    <tr>\n",
              "      <th>0</th>\n",
              "      <td>1</td>\n",
              "      <td>Albania</td>\n",
              "      <td>80000</td>\n",
              "      <td>ALB0006</td>\n",
              "      <td>Non-OECD</td>\n",
              "      <td>Albania</td>\n",
              "      <td>1</td>\n",
              "      <td>1</td>\n",
              "      <td>10</td>\n",
              "      <td>1</td>\n",
              "      <td>2</td>\n",
              "      <td>1996</td>\n",
              "      <td>Female</td>\n",
              "      <td>No</td>\n",
              "      <td>6.0</td>\n",
              "      <td>No, never</td>\n",
              "      <td>No, never</td>\n",
              "      <td>No, never</td>\n",
              "      <td>None</td>\n",
              "      <td>None</td>\n",
              "      <td>1.0</td>\n",
              "      <td>Yes</td>\n",
              "      <td>Yes</td>\n",
              "      <td>Yes</td>\n",
              "      <td>Yes</td>\n",
              "      <td>NaN</td>\n",
              "      <td>NaN</td>\n",
              "      <td>&lt;ISCED level 3A&gt;</td>\n",
              "      <td>No</td>\n",
              "      <td>No</td>\n",
              "      <td>No</td>\n",
              "      <td>No</td>\n",
              "      <td>Other (e.g. home duties, retired)</td>\n",
              "      <td>&lt;ISCED level 3A&gt;</td>\n",
              "      <td>NaN</td>\n",
              "      <td>NaN</td>\n",
              "      <td>NaN</td>\n",
              "      <td>NaN</td>\n",
              "      <td>Working part-time &lt;for pay&gt;</td>\n",
              "      <td>Country of test</td>\n",
              "      <td>...</td>\n",
              "      <td>4.3313</td>\n",
              "      <td>4.5084</td>\n",
              "      <td>4.5084</td>\n",
              "      <td>13.7954</td>\n",
              "      <td>13.9235</td>\n",
              "      <td>4.3389</td>\n",
              "      <td>13.0829</td>\n",
              "      <td>13.9235</td>\n",
              "      <td>4.3389</td>\n",
              "      <td>4.3313</td>\n",
              "      <td>13.7954</td>\n",
              "      <td>13.9235</td>\n",
              "      <td>13.1249</td>\n",
              "      <td>13.1249</td>\n",
              "      <td>4.3389</td>\n",
              "      <td>13.0829</td>\n",
              "      <td>4.5084</td>\n",
              "      <td>4.5315</td>\n",
              "      <td>13.0829</td>\n",
              "      <td>4.5315</td>\n",
              "      <td>4.3313</td>\n",
              "      <td>4.5084</td>\n",
              "      <td>4.5084</td>\n",
              "      <td>13.7954</td>\n",
              "      <td>13.9235</td>\n",
              "      <td>4.3389</td>\n",
              "      <td>13.0829</td>\n",
              "      <td>13.9235</td>\n",
              "      <td>4.3389</td>\n",
              "      <td>4.3313</td>\n",
              "      <td>13.7954</td>\n",
              "      <td>13.9235</td>\n",
              "      <td>13.1249</td>\n",
              "      <td>13.1249</td>\n",
              "      <td>4.3389</td>\n",
              "      <td>13.0829</td>\n",
              "      <td>19.0</td>\n",
              "      <td>1.0</td>\n",
              "      <td>0.2098</td>\n",
              "      <td>22NOV13</td>\n",
              "    </tr>\n",
              "    <tr>\n",
              "      <th>1</th>\n",
              "      <td>2</td>\n",
              "      <td>Albania</td>\n",
              "      <td>80000</td>\n",
              "      <td>ALB0006</td>\n",
              "      <td>Non-OECD</td>\n",
              "      <td>Albania</td>\n",
              "      <td>1</td>\n",
              "      <td>2</td>\n",
              "      <td>10</td>\n",
              "      <td>1</td>\n",
              "      <td>2</td>\n",
              "      <td>1996</td>\n",
              "      <td>Female</td>\n",
              "      <td>Yes, for more than one year</td>\n",
              "      <td>7.0</td>\n",
              "      <td>No, never</td>\n",
              "      <td>No, never</td>\n",
              "      <td>No, never</td>\n",
              "      <td>One or two times</td>\n",
              "      <td>None</td>\n",
              "      <td>1.0</td>\n",
              "      <td>Yes</td>\n",
              "      <td>Yes</td>\n",
              "      <td>NaN</td>\n",
              "      <td>Yes</td>\n",
              "      <td>NaN</td>\n",
              "      <td>NaN</td>\n",
              "      <td>&lt;ISCED level 3A&gt;</td>\n",
              "      <td>Yes</td>\n",
              "      <td>Yes</td>\n",
              "      <td>No</td>\n",
              "      <td>No</td>\n",
              "      <td>Working full-time &lt;for pay&gt;</td>\n",
              "      <td>&lt;ISCED level 3A&gt;</td>\n",
              "      <td>No</td>\n",
              "      <td>No</td>\n",
              "      <td>No</td>\n",
              "      <td>No</td>\n",
              "      <td>Working full-time &lt;for pay&gt;</td>\n",
              "      <td>Country of test</td>\n",
              "      <td>...</td>\n",
              "      <td>4.3313</td>\n",
              "      <td>4.5084</td>\n",
              "      <td>4.5084</td>\n",
              "      <td>13.7954</td>\n",
              "      <td>13.9235</td>\n",
              "      <td>4.3389</td>\n",
              "      <td>13.0829</td>\n",
              "      <td>13.9235</td>\n",
              "      <td>4.3389</td>\n",
              "      <td>4.3313</td>\n",
              "      <td>13.7954</td>\n",
              "      <td>13.9235</td>\n",
              "      <td>13.1249</td>\n",
              "      <td>13.1249</td>\n",
              "      <td>4.3389</td>\n",
              "      <td>13.0829</td>\n",
              "      <td>4.5084</td>\n",
              "      <td>4.5315</td>\n",
              "      <td>13.0829</td>\n",
              "      <td>4.5315</td>\n",
              "      <td>4.3313</td>\n",
              "      <td>4.5084</td>\n",
              "      <td>4.5084</td>\n",
              "      <td>13.7954</td>\n",
              "      <td>13.9235</td>\n",
              "      <td>4.3389</td>\n",
              "      <td>13.0829</td>\n",
              "      <td>13.9235</td>\n",
              "      <td>4.3389</td>\n",
              "      <td>4.3313</td>\n",
              "      <td>13.7954</td>\n",
              "      <td>13.9235</td>\n",
              "      <td>13.1249</td>\n",
              "      <td>13.1249</td>\n",
              "      <td>4.3389</td>\n",
              "      <td>13.0829</td>\n",
              "      <td>19.0</td>\n",
              "      <td>1.0</td>\n",
              "      <td>0.2098</td>\n",
              "      <td>22NOV13</td>\n",
              "    </tr>\n",
              "    <tr>\n",
              "      <th>2</th>\n",
              "      <td>3</td>\n",
              "      <td>Albania</td>\n",
              "      <td>80000</td>\n",
              "      <td>ALB0006</td>\n",
              "      <td>Non-OECD</td>\n",
              "      <td>Albania</td>\n",
              "      <td>1</td>\n",
              "      <td>3</td>\n",
              "      <td>9</td>\n",
              "      <td>1</td>\n",
              "      <td>9</td>\n",
              "      <td>1996</td>\n",
              "      <td>Female</td>\n",
              "      <td>Yes, for more than one year</td>\n",
              "      <td>6.0</td>\n",
              "      <td>No, never</td>\n",
              "      <td>No, never</td>\n",
              "      <td>No, never</td>\n",
              "      <td>None</td>\n",
              "      <td>None</td>\n",
              "      <td>1.0</td>\n",
              "      <td>Yes</td>\n",
              "      <td>Yes</td>\n",
              "      <td>No</td>\n",
              "      <td>Yes</td>\n",
              "      <td>No</td>\n",
              "      <td>No</td>\n",
              "      <td>&lt;ISCED level 3B, 3C&gt;</td>\n",
              "      <td>Yes</td>\n",
              "      <td>Yes</td>\n",
              "      <td>Yes</td>\n",
              "      <td>No</td>\n",
              "      <td>Working full-time &lt;for pay&gt;</td>\n",
              "      <td>&lt;ISCED level 3A&gt;</td>\n",
              "      <td>Yes</td>\n",
              "      <td>No</td>\n",
              "      <td>Yes</td>\n",
              "      <td>Yes</td>\n",
              "      <td>Working full-time &lt;for pay&gt;</td>\n",
              "      <td>Country of test</td>\n",
              "      <td>...</td>\n",
              "      <td>4.2436</td>\n",
              "      <td>4.2436</td>\n",
              "      <td>4.2436</td>\n",
              "      <td>12.7307</td>\n",
              "      <td>12.7307</td>\n",
              "      <td>4.2436</td>\n",
              "      <td>12.7307</td>\n",
              "      <td>12.7307</td>\n",
              "      <td>4.2436</td>\n",
              "      <td>4.2436</td>\n",
              "      <td>12.7307</td>\n",
              "      <td>12.7307</td>\n",
              "      <td>12.7307</td>\n",
              "      <td>12.7307</td>\n",
              "      <td>4.2436</td>\n",
              "      <td>12.7307</td>\n",
              "      <td>4.2436</td>\n",
              "      <td>4.2436</td>\n",
              "      <td>12.7307</td>\n",
              "      <td>4.2436</td>\n",
              "      <td>4.2436</td>\n",
              "      <td>4.2436</td>\n",
              "      <td>4.2436</td>\n",
              "      <td>12.7307</td>\n",
              "      <td>12.7307</td>\n",
              "      <td>4.2436</td>\n",
              "      <td>12.7307</td>\n",
              "      <td>12.7307</td>\n",
              "      <td>4.2436</td>\n",
              "      <td>4.2436</td>\n",
              "      <td>12.7307</td>\n",
              "      <td>12.7307</td>\n",
              "      <td>12.7307</td>\n",
              "      <td>12.7307</td>\n",
              "      <td>4.2436</td>\n",
              "      <td>12.7307</td>\n",
              "      <td>19.0</td>\n",
              "      <td>1.0</td>\n",
              "      <td>0.1999</td>\n",
              "      <td>22NOV13</td>\n",
              "    </tr>\n",
              "    <tr>\n",
              "      <th>3</th>\n",
              "      <td>4</td>\n",
              "      <td>Albania</td>\n",
              "      <td>80000</td>\n",
              "      <td>ALB0006</td>\n",
              "      <td>Non-OECD</td>\n",
              "      <td>Albania</td>\n",
              "      <td>1</td>\n",
              "      <td>4</td>\n",
              "      <td>9</td>\n",
              "      <td>1</td>\n",
              "      <td>8</td>\n",
              "      <td>1996</td>\n",
              "      <td>Female</td>\n",
              "      <td>Yes, for more than one year</td>\n",
              "      <td>6.0</td>\n",
              "      <td>No, never</td>\n",
              "      <td>No, never</td>\n",
              "      <td>No, never</td>\n",
              "      <td>None</td>\n",
              "      <td>None</td>\n",
              "      <td>1.0</td>\n",
              "      <td>Yes</td>\n",
              "      <td>Yes</td>\n",
              "      <td>No</td>\n",
              "      <td>Yes</td>\n",
              "      <td>No</td>\n",
              "      <td>No</td>\n",
              "      <td>&lt;ISCED level 3B, 3C&gt;</td>\n",
              "      <td>No</td>\n",
              "      <td>No</td>\n",
              "      <td>No</td>\n",
              "      <td>No</td>\n",
              "      <td>Working full-time &lt;for pay&gt;</td>\n",
              "      <td>&lt;ISCED level 3A&gt;</td>\n",
              "      <td>Yes</td>\n",
              "      <td>Yes</td>\n",
              "      <td>No</td>\n",
              "      <td>No</td>\n",
              "      <td>Working full-time &lt;for pay&gt;</td>\n",
              "      <td>Country of test</td>\n",
              "      <td>...</td>\n",
              "      <td>4.2436</td>\n",
              "      <td>4.2436</td>\n",
              "      <td>4.2436</td>\n",
              "      <td>12.7307</td>\n",
              "      <td>12.7307</td>\n",
              "      <td>4.2436</td>\n",
              "      <td>12.7307</td>\n",
              "      <td>12.7307</td>\n",
              "      <td>4.2436</td>\n",
              "      <td>4.2436</td>\n",
              "      <td>12.7307</td>\n",
              "      <td>12.7307</td>\n",
              "      <td>12.7307</td>\n",
              "      <td>12.7307</td>\n",
              "      <td>4.2436</td>\n",
              "      <td>12.7307</td>\n",
              "      <td>4.2436</td>\n",
              "      <td>4.2436</td>\n",
              "      <td>12.7307</td>\n",
              "      <td>4.2436</td>\n",
              "      <td>4.2436</td>\n",
              "      <td>4.2436</td>\n",
              "      <td>4.2436</td>\n",
              "      <td>12.7307</td>\n",
              "      <td>12.7307</td>\n",
              "      <td>4.2436</td>\n",
              "      <td>12.7307</td>\n",
              "      <td>12.7307</td>\n",
              "      <td>4.2436</td>\n",
              "      <td>4.2436</td>\n",
              "      <td>12.7307</td>\n",
              "      <td>12.7307</td>\n",
              "      <td>12.7307</td>\n",
              "      <td>12.7307</td>\n",
              "      <td>4.2436</td>\n",
              "      <td>12.7307</td>\n",
              "      <td>19.0</td>\n",
              "      <td>1.0</td>\n",
              "      <td>0.1999</td>\n",
              "      <td>22NOV13</td>\n",
              "    </tr>\n",
              "    <tr>\n",
              "      <th>4</th>\n",
              "      <td>5</td>\n",
              "      <td>Albania</td>\n",
              "      <td>80000</td>\n",
              "      <td>ALB0006</td>\n",
              "      <td>Non-OECD</td>\n",
              "      <td>Albania</td>\n",
              "      <td>1</td>\n",
              "      <td>5</td>\n",
              "      <td>9</td>\n",
              "      <td>1</td>\n",
              "      <td>10</td>\n",
              "      <td>1996</td>\n",
              "      <td>Female</td>\n",
              "      <td>Yes, for more than one year</td>\n",
              "      <td>6.0</td>\n",
              "      <td>No, never</td>\n",
              "      <td>No, never</td>\n",
              "      <td>No, never</td>\n",
              "      <td>One or two times</td>\n",
              "      <td>None</td>\n",
              "      <td>2.0</td>\n",
              "      <td>Yes</td>\n",
              "      <td>Yes</td>\n",
              "      <td>Yes</td>\n",
              "      <td>NaN</td>\n",
              "      <td>NaN</td>\n",
              "      <td>NaN</td>\n",
              "      <td>She did not complete &lt;ISCED level 1&gt;</td>\n",
              "      <td>No</td>\n",
              "      <td>No</td>\n",
              "      <td>No</td>\n",
              "      <td>No</td>\n",
              "      <td>Working part-time &lt;for pay&gt;</td>\n",
              "      <td>&lt;ISCED level 3B, 3C&gt;</td>\n",
              "      <td>No</td>\n",
              "      <td>No</td>\n",
              "      <td>No</td>\n",
              "      <td>Yes</td>\n",
              "      <td>Working part-time &lt;for pay&gt;</td>\n",
              "      <td>Country of test</td>\n",
              "      <td>...</td>\n",
              "      <td>4.2436</td>\n",
              "      <td>4.2436</td>\n",
              "      <td>4.2436</td>\n",
              "      <td>12.7307</td>\n",
              "      <td>12.7307</td>\n",
              "      <td>4.2436</td>\n",
              "      <td>12.7307</td>\n",
              "      <td>12.7307</td>\n",
              "      <td>4.2436</td>\n",
              "      <td>4.2436</td>\n",
              "      <td>12.7307</td>\n",
              "      <td>12.7307</td>\n",
              "      <td>12.7307</td>\n",
              "      <td>12.7307</td>\n",
              "      <td>4.2436</td>\n",
              "      <td>12.7307</td>\n",
              "      <td>4.2436</td>\n",
              "      <td>4.2436</td>\n",
              "      <td>12.7307</td>\n",
              "      <td>4.2436</td>\n",
              "      <td>4.2436</td>\n",
              "      <td>4.2436</td>\n",
              "      <td>4.2436</td>\n",
              "      <td>12.7307</td>\n",
              "      <td>12.7307</td>\n",
              "      <td>4.2436</td>\n",
              "      <td>12.7307</td>\n",
              "      <td>12.7307</td>\n",
              "      <td>4.2436</td>\n",
              "      <td>4.2436</td>\n",
              "      <td>12.7307</td>\n",
              "      <td>12.7307</td>\n",
              "      <td>12.7307</td>\n",
              "      <td>12.7307</td>\n",
              "      <td>4.2436</td>\n",
              "      <td>12.7307</td>\n",
              "      <td>19.0</td>\n",
              "      <td>1.0</td>\n",
              "      <td>0.1999</td>\n",
              "      <td>22NOV13</td>\n",
              "    </tr>\n",
              "  </tbody>\n",
              "</table>\n",
              "<p>5 rows × 636 columns</p>\n",
              "</div>"
            ],
            "text/plain": [
              "   Unnamed: 0      CNT  SUBNATIO  STRATUM  ... WVARSTRR VAR_UNIT  SENWGT_STU  VER_STU\n",
              "0           1  Albania     80000  ALB0006  ...     19.0      1.0      0.2098  22NOV13\n",
              "1           2  Albania     80000  ALB0006  ...     19.0      1.0      0.2098  22NOV13\n",
              "2           3  Albania     80000  ALB0006  ...     19.0      1.0      0.1999  22NOV13\n",
              "3           4  Albania     80000  ALB0006  ...     19.0      1.0      0.1999  22NOV13\n",
              "4           5  Albania     80000  ALB0006  ...     19.0      1.0      0.1999  22NOV13\n",
              "\n",
              "[5 rows x 636 columns]"
            ]
          },
          "metadata": {
            "tags": []
          },
          "execution_count": 46
        }
      ]
    },
    {
      "cell_type": "code",
      "metadata": {
        "id": "C7GjNlWbg8qG",
        "colab": {
          "base_uri": "https://localhost:8080/"
        },
        "outputId": "b60033c9-3313-41a4-9cf6-9b5650012770"
      },
      "source": [
        "df.shape"
      ],
      "execution_count": null,
      "outputs": [
        {
          "output_type": "execute_result",
          "data": {
            "text/plain": [
              "(15078, 636)"
            ]
          },
          "metadata": {
            "tags": []
          },
          "execution_count": 8
        }
      ]
    },
    {
      "cell_type": "code",
      "metadata": {
        "id": "H94dzesgg9do",
        "colab": {
          "base_uri": "https://localhost:8080/",
          "height": 102
        },
        "outputId": "ca9dfee2-c6cb-4464-961f-cd98b37ecb75"
      },
      "source": [
        "df.info()"
      ],
      "execution_count": null,
      "outputs": [
        {
          "output_type": "stream",
          "text": [
            "<class 'pandas.core.frame.DataFrame'>\n",
            "RangeIndex: 15283 entries, 0 to 15282\n",
            "Columns: 636 entries, Unnamed: 0 to VER_STU\n",
            "dtypes: float64(349), int64(18), object(269)\n",
            "memory usage: 74.2+ MB\n"
          ],
          "name": "stdout"
        }
      ]
    },
    {
      "cell_type": "code",
      "metadata": {
        "id": "9LhBBn_rg9Zi",
        "colab": {
          "base_uri": "https://localhost:8080/",
          "height": 221
        },
        "outputId": "de41d612-c503-42c5-ad7d-fcbecf30ef86"
      },
      "source": [
        "df.isna().sum()"
      ],
      "execution_count": null,
      "outputs": [
        {
          "output_type": "execute_result",
          "data": {
            "text/plain": [
              "Unnamed: 0    0\n",
              "CNT           0\n",
              "SUBNATIO      0\n",
              "STRATUM       0\n",
              "OECD          0\n",
              "             ..\n",
              "W_FSTR80      1\n",
              "WVARSTRR      1\n",
              "VAR_UNIT      1\n",
              "SENWGT_STU    1\n",
              "VER_STU       1\n",
              "Length: 636, dtype: int64"
            ]
          },
          "metadata": {
            "tags": []
          },
          "execution_count": 48
        }
      ]
    },
    {
      "cell_type": "code",
      "metadata": {
        "id": "JLu7n74-h9qa"
      },
      "source": [
        "df=df[['CNT' ,'ST01Q01' ,  'ST03Q02' ,'ST04Q01' ,'ST11Q01' ,'ST11Q02','PV1MATH', 'PV2MATH', 'PV3MATH', 'PV4MATH', 'PV5MATH', 'PV1READ', 'PV2READ', 'PV3READ', 'PV4READ', 'PV5READ', \n",
        "         'PV1SCIE', 'PV2SCIE', 'PV3SCIE', 'PV4SCIE', 'PV5SCIE','AGE']]"
      ],
      "execution_count": null,
      "outputs": []
    },
    {
      "cell_type": "code",
      "metadata": {
        "id": "c4B6w-axks8K"
      },
      "source": [
        "#create new field to find the maximam value\n",
        "df['Max math score'] =df[['PV1MATH', 'PV2MATH', 'PV3MATH', 'PV4MATH', 'PV5MATH']].max(axis=1)\n",
        "df['Max read score'] =df[['PV1READ', 'PV2READ', 'PV3READ', 'PV4READ', 'PV5READ']].max(axis=1)\n",
        "df['Max science score'] =df[['PV1SCIE', 'PV2SCIE', 'PV3SCIE', 'PV4SCIE', 'PV5SCIE']].max(axis=1)\n"
      ],
      "execution_count": null,
      "outputs": []
    },
    {
      "cell_type": "code",
      "metadata": {
        "id": "-mkWGIP12S9i"
      },
      "source": [
        ""
      ],
      "execution_count": null,
      "outputs": []
    },
    {
      "cell_type": "code",
      "metadata": {
        "id": "YMdx8SYNdvQ5"
      },
      "source": [
        "# create new field to find the average of the value \n",
        "df['avg math score'] = (df['PV1MATH']+ df['PV2MATH']+ df['PV3MATH']+ df['PV4MATH']+ df['PV5MATH']) / 5\n",
        "\n",
        "df['avg read score'] = (df['PV1READ']+ df['PV2READ']+ df ['PV3READ']+ df['PV4READ'] +df['PV5READ']) / 5\n",
        "\n",
        "df['avg science score'] = (df['PV1SCIE']+ df['PV2SCIE']+ df['PV3SCIE']+ df['PV4SCIE']+ df['PV5SCIE']) / 5"
      ],
      "execution_count": null,
      "outputs": []
    },
    {
      "cell_type": "code",
      "metadata": {
        "id": "DEih74x4ks-x"
      },
      "source": [
        ""
      ],
      "execution_count": null,
      "outputs": []
    },
    {
      "cell_type": "code",
      "metadata": {
        "id": "9QvvSI60ktFK"
      },
      "source": [
        "df.rename(columns = {'CNT':'Country ', 'ST01Q01':'International_Grade' ,'ST03Q02':'Birth_Year','ST04Q01':'Gender',\n",
        "   'ST11Q01':'Mother_AtHome' , 'ST11Q02' :'Father_AtHome','AGE':'Age' }, inplace=True)"
      ],
      "execution_count": null,
      "outputs": []
    },
    {
      "cell_type": "code",
      "metadata": {
        "id": "9kQDWi5Pks6I",
        "colab": {
          "base_uri": "https://localhost:8080/",
          "height": 258
        },
        "outputId": "9eb1bd2b-cac8-495b-820e-42560b82edfe"
      },
      "source": [
        "df.head()"
      ],
      "execution_count": null,
      "outputs": [
        {
          "output_type": "execute_result",
          "data": {
            "text/html": [
              "<div>\n",
              "<style scoped>\n",
              "    .dataframe tbody tr th:only-of-type {\n",
              "        vertical-align: middle;\n",
              "    }\n",
              "\n",
              "    .dataframe tbody tr th {\n",
              "        vertical-align: top;\n",
              "    }\n",
              "\n",
              "    .dataframe thead th {\n",
              "        text-align: right;\n",
              "    }\n",
              "</style>\n",
              "<table border=\"1\" class=\"dataframe\">\n",
              "  <thead>\n",
              "    <tr style=\"text-align: right;\">\n",
              "      <th></th>\n",
              "      <th>Country</th>\n",
              "      <th>International_Grade</th>\n",
              "      <th>Birth_Year</th>\n",
              "      <th>Gender</th>\n",
              "      <th>Mother_AtHome</th>\n",
              "      <th>Father_AtHome</th>\n",
              "      <th>PV1MATH</th>\n",
              "      <th>PV2MATH</th>\n",
              "      <th>PV3MATH</th>\n",
              "      <th>PV4MATH</th>\n",
              "      <th>PV5MATH</th>\n",
              "      <th>PV1READ</th>\n",
              "      <th>PV2READ</th>\n",
              "      <th>PV3READ</th>\n",
              "      <th>PV4READ</th>\n",
              "      <th>PV5READ</th>\n",
              "      <th>PV1SCIE</th>\n",
              "      <th>PV2SCIE</th>\n",
              "      <th>PV3SCIE</th>\n",
              "      <th>PV4SCIE</th>\n",
              "      <th>PV5SCIE</th>\n",
              "      <th>Age</th>\n",
              "      <th>Max math score</th>\n",
              "      <th>Max read score</th>\n",
              "      <th>Max science score</th>\n",
              "      <th>avg math score</th>\n",
              "      <th>avg read score</th>\n",
              "      <th>avg science score</th>\n",
              "    </tr>\n",
              "  </thead>\n",
              "  <tbody>\n",
              "    <tr>\n",
              "      <th>0</th>\n",
              "      <td>Albania</td>\n",
              "      <td>10</td>\n",
              "      <td>1996</td>\n",
              "      <td>Female</td>\n",
              "      <td>Yes</td>\n",
              "      <td>Yes</td>\n",
              "      <td>406.8469</td>\n",
              "      <td>376.4683</td>\n",
              "      <td>344.5319</td>\n",
              "      <td>321.1637</td>\n",
              "      <td>381.9209</td>\n",
              "      <td>249.5762</td>\n",
              "      <td>254.3420</td>\n",
              "      <td>406.8496</td>\n",
              "      <td>175.7053</td>\n",
              "      <td>218.5981</td>\n",
              "      <td>341.7009</td>\n",
              "      <td>408.8400</td>\n",
              "      <td>348.2283</td>\n",
              "      <td>367.8105</td>\n",
              "      <td>392.9877</td>\n",
              "      <td>16.17</td>\n",
              "      <td>406.8469</td>\n",
              "      <td>406.8496</td>\n",
              "      <td>408.8400</td>\n",
              "      <td>366.18634</td>\n",
              "      <td>261.01424</td>\n",
              "      <td>371.91348</td>\n",
              "    </tr>\n",
              "    <tr>\n",
              "      <th>1</th>\n",
              "      <td>Albania</td>\n",
              "      <td>10</td>\n",
              "      <td>1996</td>\n",
              "      <td>Female</td>\n",
              "      <td>Yes</td>\n",
              "      <td>Yes</td>\n",
              "      <td>486.1427</td>\n",
              "      <td>464.3325</td>\n",
              "      <td>453.4273</td>\n",
              "      <td>472.9008</td>\n",
              "      <td>476.0165</td>\n",
              "      <td>406.2936</td>\n",
              "      <td>349.8975</td>\n",
              "      <td>400.7334</td>\n",
              "      <td>369.7553</td>\n",
              "      <td>396.7618</td>\n",
              "      <td>548.9929</td>\n",
              "      <td>471.5964</td>\n",
              "      <td>471.5964</td>\n",
              "      <td>443.6218</td>\n",
              "      <td>454.8116</td>\n",
              "      <td>16.17</td>\n",
              "      <td>486.1427</td>\n",
              "      <td>406.2936</td>\n",
              "      <td>548.9929</td>\n",
              "      <td>470.56396</td>\n",
              "      <td>384.68832</td>\n",
              "      <td>478.12382</td>\n",
              "    </tr>\n",
              "    <tr>\n",
              "      <th>2</th>\n",
              "      <td>Albania</td>\n",
              "      <td>9</td>\n",
              "      <td>1996</td>\n",
              "      <td>Female</td>\n",
              "      <td>Yes</td>\n",
              "      <td>Yes</td>\n",
              "      <td>533.2684</td>\n",
              "      <td>481.0796</td>\n",
              "      <td>489.6479</td>\n",
              "      <td>490.4269</td>\n",
              "      <td>533.2684</td>\n",
              "      <td>401.2100</td>\n",
              "      <td>404.3872</td>\n",
              "      <td>387.7067</td>\n",
              "      <td>431.3938</td>\n",
              "      <td>401.2100</td>\n",
              "      <td>499.6643</td>\n",
              "      <td>428.7952</td>\n",
              "      <td>492.2044</td>\n",
              "      <td>512.7191</td>\n",
              "      <td>499.6643</td>\n",
              "      <td>15.58</td>\n",
              "      <td>533.2684</td>\n",
              "      <td>431.3938</td>\n",
              "      <td>512.7191</td>\n",
              "      <td>505.53824</td>\n",
              "      <td>405.18154</td>\n",
              "      <td>486.60946</td>\n",
              "    </tr>\n",
              "    <tr>\n",
              "      <th>3</th>\n",
              "      <td>Albania</td>\n",
              "      <td>9</td>\n",
              "      <td>1996</td>\n",
              "      <td>Female</td>\n",
              "      <td>Yes</td>\n",
              "      <td>Yes</td>\n",
              "      <td>412.2215</td>\n",
              "      <td>498.6836</td>\n",
              "      <td>415.3373</td>\n",
              "      <td>466.7472</td>\n",
              "      <td>454.2842</td>\n",
              "      <td>547.3630</td>\n",
              "      <td>481.4353</td>\n",
              "      <td>461.5776</td>\n",
              "      <td>425.0393</td>\n",
              "      <td>471.9036</td>\n",
              "      <td>438.6796</td>\n",
              "      <td>481.5740</td>\n",
              "      <td>448.9370</td>\n",
              "      <td>474.1141</td>\n",
              "      <td>426.5573</td>\n",
              "      <td>15.67</td>\n",
              "      <td>498.6836</td>\n",
              "      <td>547.3630</td>\n",
              "      <td>481.5740</td>\n",
              "      <td>449.45476</td>\n",
              "      <td>477.46376</td>\n",
              "      <td>453.97240</td>\n",
              "    </tr>\n",
              "    <tr>\n",
              "      <th>4</th>\n",
              "      <td>Albania</td>\n",
              "      <td>9</td>\n",
              "      <td>1996</td>\n",
              "      <td>Female</td>\n",
              "      <td>Yes</td>\n",
              "      <td>Yes</td>\n",
              "      <td>381.9209</td>\n",
              "      <td>328.1742</td>\n",
              "      <td>403.7311</td>\n",
              "      <td>418.5309</td>\n",
              "      <td>395.1628</td>\n",
              "      <td>311.7707</td>\n",
              "      <td>141.7883</td>\n",
              "      <td>293.5015</td>\n",
              "      <td>272.8495</td>\n",
              "      <td>260.1405</td>\n",
              "      <td>361.5628</td>\n",
              "      <td>275.7740</td>\n",
              "      <td>372.7527</td>\n",
              "      <td>403.5248</td>\n",
              "      <td>422.1746</td>\n",
              "      <td>15.50</td>\n",
              "      <td>418.5309</td>\n",
              "      <td>311.7707</td>\n",
              "      <td>422.1746</td>\n",
              "      <td>385.50398</td>\n",
              "      <td>256.01010</td>\n",
              "      <td>367.15778</td>\n",
              "    </tr>\n",
              "  </tbody>\n",
              "</table>\n",
              "</div>"
            ],
            "text/plain": [
              "  Country   International_Grade  ...  avg read score avg science score\n",
              "0  Albania                   10  ...       261.01424         371.91348\n",
              "1  Albania                   10  ...       384.68832         478.12382\n",
              "2  Albania                    9  ...       405.18154         486.60946\n",
              "3  Albania                    9  ...       477.46376         453.97240\n",
              "4  Albania                    9  ...       256.01010         367.15778\n",
              "\n",
              "[5 rows x 28 columns]"
            ]
          },
          "metadata": {
            "tags": []
          },
          "execution_count": 53
        }
      ]
    },
    {
      "cell_type": "markdown",
      "metadata": {
        "id": "TogpC2AUbhnd"
      },
      "source": [
        "### What is the structure of your dataset?\n",
        "\n",
        "> dataset contains 15078 rows , 636 columns\n",
        "\n",
        "### What is/are the main feature(s) of interest in your dataset?\n",
        "\n",
        "> i am interested in Gender feature and show the effects on other\n",
        "\n",
        "### What features in the dataset do you think will help support your investigation into your feature(s) of interest?\n",
        "\n",
        "> i think age and all Scores"
      ]
    },
    {
      "cell_type": "markdown",
      "metadata": {
        "id": "lL7AwPGtbhne"
      },
      "source": [
        "## Univariate Exploration\n",
        "\n",
        "> "
      ]
    },
    {
      "cell_type": "code",
      "metadata": {
        "id": "wOOwlExDbhng"
      },
      "source": [
        "base_color =sb.color_palette()[0]"
      ],
      "execution_count": null,
      "outputs": []
    },
    {
      "cell_type": "code",
      "metadata": {
        "id": "7PQCwrKSj3CE",
        "colab": {
          "base_uri": "https://localhost:8080/",
          "height": 368
        },
        "outputId": "4dcc76b9-2886-4301-bfe9-d7dbe00662df"
      },
      "source": [
        "plt.figure(figsize=[14,5])\n",
        "sb.countplot(data=df ,x= 'Age' ,color=base_color);\n",
        "plt.title(\"student age\")\n",
        "plt.xlabel(\"Age\")\n",
        "plt.xticks(rotation=90);"
      ],
      "execution_count": null,
      "outputs": [
        {
          "output_type": "display_data",
          "data": {
            "image/png": "[encoded data removed]",
            "text/plain": [
              "<Figure size 1008x360 with 1 Axes>"
            ]
          },
          "metadata": {
            "tags": [],
            "needs_background": "light"
          }
        }
      ]
    },
    {
      "cell_type": "code",
      "metadata": {
        "id": "aROxrKElj3F3"
      },
      "source": [
        ""
      ],
      "execution_count": null,
      "outputs": []
    },
    {
      "cell_type": "markdown",
      "metadata": {
        "id": "DC1GMz7e-IJz"
      },
      "source": [
        "**we can have the same information with more view**"
      ]
    },
    {
      "cell_type": "code",
      "metadata": {
        "id": "ALmkMvBBlUL3",
        "colab": {
          "base_uri": "https://localhost:8080/",
          "height": 296
        },
        "outputId": "d2fe7775-cefa-4449-8752-6f6e41473f2f"
      },
      "source": [
        "sb.boxplot(data=df , x= 'Age' ,color=base_color)\n",
        "plt.xlabel(\"Age\")"
      ],
      "execution_count": null,
      "outputs": [
        {
          "output_type": "execute_result",
          "data": {
            "text/plain": [
              "Text(0.5, 0, 'Age')"
            ]
          },
          "metadata": {
            "tags": []
          },
          "execution_count": 56
        },
        {
          "output_type": "display_data",
          "data": {
            "image/png": "[encoded data removed]",
            "text/plain": [
              "<Figure size 432x288 with 1 Axes>"
            ]
          },
          "metadata": {
            "tags": [],
            "needs_background": "light"
          }
        }
      ]
    },
    {
      "cell_type": "markdown",
      "metadata": {
        "id": "gF8vsBEG4bPr"
      },
      "source": [
        " above plot show the most age that have large count & this is showen in another plot that age of 15.75 achived largest value"
      ]
    },
    {
      "cell_type": "code",
      "metadata": {
        "id": "4MsDRN8rbhnn"
      },
      "source": [
        ""
      ],
      "execution_count": null,
      "outputs": []
    },
    {
      "cell_type": "markdown",
      "metadata": {
        "id": "YMq8fgotbhns"
      },
      "source": [
        "## Bivariate Exploration\n",
        "\n"
      ]
    },
    {
      "cell_type": "code",
      "metadata": {
        "id": "nnWwjccKRQJE"
      },
      "source": [
        ""
      ],
      "execution_count": null,
      "outputs": []
    },
    {
      "cell_type": "code",
      "metadata": {
        "id": "phQ9kMBYm9yG",
        "colab": {
          "base_uri": "https://localhost:8080/",
          "height": 393
        },
        "outputId": "6db99028-2f6d-4106-b4f3-991b1b9292a8"
      },
      "source": [
        "b =df.groupby(['Gender']).mean()[['Max math score','Max read score','Max science score']]\n",
        "a = b.plot.bar(figsize=(10,5));\n",
        "plt.ylabel('Score')\n",
        "plt.title('maxmum scores by gender')\n"
      ],
      "execution_count": null,
      "outputs": [
        {
          "output_type": "execute_result",
          "data": {
            "text/plain": [
              "Text(0.5, 1.0, 'maxmum scores by gender')"
            ]
          },
          "metadata": {
            "tags": []
          },
          "execution_count": 60
        },
        {
          "output_type": "display_data",
          "data": {
            "image/png": "[encoded data removed]",
            "text/plain": [
              "<Figure size 720x360 with 1 Axes>"
            ]
          },
          "metadata": {
            "tags": [],
            "needs_background": "light"
          }
        }
      ]
    },
    {
      "cell_type": "markdown",
      "metadata": {
        "id": "dehf3C9t5drs"
      },
      "source": [
        "that show that female achevie high performance in reading & Science but male in math & Science achevie high performance\n",
        "and we can consider that both good in science"
      ]
    },
    {
      "cell_type": "markdown",
      "metadata": {
        "id": "fx_HJ2D4bhnw"
      },
      "source": [
        ""
      ]
    },
    {
      "cell_type": "markdown",
      "metadata": {
        "id": "3VXMnD3Sbhnx"
      },
      "source": [
        "## Multivariate Exploration\n",
        "\n"
      ]
    },
    {
      "cell_type": "code",
      "metadata": {
        "id": "2oOzhwplxMq8",
        "colab": {
          "base_uri": "https://localhost:8080/",
          "height": 567
        },
        "outputId": "863ca498-ce5e-4dac-e69f-0e616ac59f16"
      },
      "source": [
        "mul_plot =sb.pairplot(data =df ,vars=[\"avg math score\",\"avg read score\",\"avg science score\"])\n",
        "mul_plot.fig.suptitle(\"relation between average scores of Math,Reading & Science\")"
      ],
      "execution_count": null,
      "outputs": [
        {
          "output_type": "execute_result",
          "data": {
            "text/plain": [
              "Text(0.5, 0.98, 'relation between average scores of Math,Reading & Science')"
            ]
          },
          "metadata": {
            "tags": []
          },
          "execution_count": 62
        },
        {
          "output_type": "display_data",
          "data": {
            "image/png": "[encoded data removed]",
            "text/plain": [
              "<Figure size 540x540 with 12 Axes>"
            ]
          },
          "metadata": {
            "tags": [],
            "needs_background": "light"
          }
        }
      ]
    },
    {
      "cell_type": "code",
      "metadata": {
        "id": "88h2g6McxMoQ",
        "colab": {
          "base_uri": "https://localhost:8080/",
          "height": 621
        },
        "outputId": "f9431edc-ea5a-426e-d4f9-4792b885c235"
      },
      "source": [
        "plt.figure(figsize=[5,10])\n",
        "df_sort =df.sort_values(by='avg science score')\n",
        "sb.boxplot(x =df_sort['avg science score'] ,y = df_sort [\"Gender\"] ,color=sb.color_palette()[0]);\n",
        "plt.title(\"average score for science with gender\");"
      ],
      "execution_count": null,
      "outputs": [
        {
          "output_type": "display_data",
          "data": {
            "image/png": "[encoded data removed]",
            "text/plain": [
              "<Figure size 360x720 with 1 Axes>"
            ]
          },
          "metadata": {
            "tags": [],
            "needs_background": "light"
          }
        }
      ]
    },
    {
      "cell_type": "code",
      "metadata": {
        "id": "4uBnATqjxMiS",
        "colab": {
          "base_uri": "https://localhost:8080/",
          "height": 621
        },
        "outputId": "97f63494-7e39-4167-ad4a-9468ef9ffba3"
      },
      "source": [
        "plt.figure(figsize=[5,10])\n",
        "df_sort =df.sort_values(by='avg math score')\n",
        "sb.boxplot(x =df_sort['avg math score'] ,y = df_sort [\"Gender\"] ,color=sb.color_palette()[0]);\n",
        "plt.title(\"average score for math with gender\");"
      ],
      "execution_count": null,
      "outputs": [
        {
          "output_type": "display_data",
          "data": {
            "image/png": "[encoded data removed]",
            "text/plain": [
              "<Figure size 360x720 with 1 Axes>"
            ]
          },
          "metadata": {
            "tags": [],
            "needs_background": "light"
          }
        }
      ]
    },
    {
      "cell_type": "code",
      "metadata": {
        "id": "B0EQZfEC1VLi"
      },
      "source": [
        ""
      ],
      "execution_count": null,
      "outputs": []
    },
    {
      "cell_type": "code",
      "metadata": {
        "id": "Z4diDuRJ1VIQ",
        "colab": {
          "base_uri": "https://localhost:8080/",
          "height": 621
        },
        "outputId": "5f8d7624-f5b3-4336-f421-2054ca6d9ee4"
      },
      "source": [
        "plt.figure(figsize=[5,10])\n",
        "df_sort =df.sort_values(by='Max read score')\n",
        "sb.boxplot(x =df_sort['Max read score'],y = df_sort ['Gender'] ,color=sb.color_palette()[0]);\n",
        "plt.title(\"maxmim score for reading with gender\");"
      ],
      "execution_count": null,
      "outputs": [
        {
          "output_type": "display_data",
          "data": {
            "image/png": "[encoded data removed]",
            "text/plain": [
              "<Figure size 360x720 with 1 Axes>"
            ]
          },
          "metadata": {
            "tags": [],
            "needs_background": "light"
          }
        }
      ]
    },
    {
      "cell_type": "markdown",
      "metadata": {
        "id": "FbrbBcgKAfvr"
      },
      "source": [
        "\n",
        "finally ,observed that \n",
        "Math : the maximum value achevied by male\n",
        "Reading : the maximum value achevied by female \n",
        "Science : the maximum value achevied by male\n",
        "we can consider that male is excellent in scientific material "
      ]
    }
  ]
}